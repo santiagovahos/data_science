{
 "cells": [
  {
   "cell_type": "markdown",
   "id": "932ee47f",
   "metadata": {},
   "source": [
    "# Repaso de temas vistos y adicionales\n",
    "<br>\n",
    "<br>\n",
    "\n",
    "<img src=\"explorar_datasets.png\" height = \"600\" width = \"600\">"
   ]
  },
  {
   "cell_type": "code",
   "execution_count": 2,
   "id": "723ee655",
   "metadata": {
    "ExecuteTime": {
     "end_time": "2022-11-22T11:12:39.537480Z",
     "start_time": "2022-11-22T11:12:38.147319Z"
    }
   },
   "outputs": [],
   "source": [
    "import pandas as pd\n",
    "import numpy as np\n",
    "import matplotlib.pyplot as plt"
   ]
  },
  {
   "cell_type": "markdown",
   "id": "3b834158",
   "metadata": {},
   "source": [
    "# Dataset"
   ]
  },
  {
   "cell_type": "code",
   "execution_count": 3,
   "id": "fd494ce9",
   "metadata": {
    "ExecuteTime": {
     "end_time": "2022-11-22T11:12:39.648894Z",
     "start_time": "2022-11-22T11:12:39.573312Z"
    }
   },
   "outputs": [],
   "source": [
    "df_employee = pd.read_csv(\"./datasets/employee_data.csv\")\n",
    "df_employee.loc[635:650, \"annual_salary\"] = np.nan"
   ]
  },
  {
   "cell_type": "markdown",
   "id": "7e9e846b",
   "metadata": {},
   "source": [
    "## Porcentaje de datos nulos"
   ]
  },
  {
   "cell_type": "code",
   "execution_count": 25,
   "id": "4420ce46",
   "metadata": {
    "ExecuteTime": {
     "end_time": "2022-11-15T12:21:33.224098Z",
     "start_time": "2022-11-15T12:21:33.203933Z"
    }
   },
   "outputs": [],
   "source": [
    "df_null = pd.DataFrame(df_employee.isnull().sum()).rename(columns = {0: \"count_null\"})\n",
    "df_null[\"porcentage_null\"] = (df_null[\"count_null\"]/df_employee.shape[0])*100"
   ]
  },
  {
   "cell_type": "code",
   "execution_count": 26,
   "id": "398bcede",
   "metadata": {
    "ExecuteTime": {
     "end_time": "2022-11-15T12:21:36.959916Z",
     "start_time": "2022-11-15T12:21:36.938016Z"
    }
   },
   "outputs": [
    {
     "data": {
      "text/html": [
       "<div>\n",
       "<style scoped>\n",
       "    .dataframe tbody tr th:only-of-type {\n",
       "        vertical-align: middle;\n",
       "    }\n",
       "\n",
       "    .dataframe tbody tr th {\n",
       "        vertical-align: top;\n",
       "    }\n",
       "\n",
       "    .dataframe thead th {\n",
       "        text-align: right;\n",
       "    }\n",
       "</style>\n",
       "<table border=\"1\" class=\"dataframe\">\n",
       "  <thead>\n",
       "    <tr style=\"text-align: right;\">\n",
       "      <th></th>\n",
       "      <th>count_null</th>\n",
       "      <th>porcentage_null</th>\n",
       "    </tr>\n",
       "  </thead>\n",
       "  <tbody>\n",
       "    <tr>\n",
       "      <th>number</th>\n",
       "      <td>0</td>\n",
       "      <td>0.0</td>\n",
       "    </tr>\n",
       "    <tr>\n",
       "      <th>first_name</th>\n",
       "      <td>1</td>\n",
       "      <td>0.1</td>\n",
       "    </tr>\n",
       "    <tr>\n",
       "      <th>last_name</th>\n",
       "      <td>1</td>\n",
       "      <td>0.1</td>\n",
       "    </tr>\n",
       "    <tr>\n",
       "      <th>gender</th>\n",
       "      <td>207</td>\n",
       "      <td>20.7</td>\n",
       "    </tr>\n",
       "    <tr>\n",
       "      <th>birth_date</th>\n",
       "      <td>1</td>\n",
       "      <td>0.1</td>\n",
       "    </tr>\n",
       "    <tr>\n",
       "      <th>employment_status</th>\n",
       "      <td>189</td>\n",
       "      <td>18.9</td>\n",
       "    </tr>\n",
       "    <tr>\n",
       "      <th>annual_salary</th>\n",
       "      <td>17</td>\n",
       "      <td>1.7</td>\n",
       "    </tr>\n",
       "    <tr>\n",
       "      <th>tax_file_no</th>\n",
       "      <td>1000</td>\n",
       "      <td>100.0</td>\n",
       "    </tr>\n",
       "  </tbody>\n",
       "</table>\n",
       "</div>"
      ],
      "text/plain": [
       "                   count_null  porcentage_null\n",
       "number                      0              0.0\n",
       "first_name                  1              0.1\n",
       "last_name                   1              0.1\n",
       "gender                    207             20.7\n",
       "birth_date                  1              0.1\n",
       "employment_status         189             18.9\n",
       "annual_salary              17              1.7\n",
       "tax_file_no              1000            100.0"
      ]
     },
     "execution_count": 26,
     "metadata": {},
     "output_type": "execute_result"
    }
   ],
   "source": [
    "df_null"
   ]
  },
  {
   "cell_type": "markdown",
   "id": "3d54e554",
   "metadata": {
    "ExecuteTime": {
     "end_time": "2021-08-04T20:10:17.233890Z",
     "start_time": "2021-08-04T20:10:17.229010Z"
    }
   },
   "source": [
    "## Eliminar datos nulos de columnas\n",
    "\n",
    "Las columnas que sean irrelevantes desde el punto de vista del contexto, o que tengan demasiado valores nulos y no puedan ser \"imputados\" se deben remover de los datos"
   ]
  },
  {
   "cell_type": "code",
   "execution_count": 29,
   "id": "5a7dfd4d",
   "metadata": {
    "ExecuteTime": {
     "end_time": "2022-11-15T12:26:24.476562Z",
     "start_time": "2022-11-15T12:26:24.443112Z"
    }
   },
   "outputs": [
    {
     "data": {
      "text/html": [
       "<div>\n",
       "<style scoped>\n",
       "    .dataframe tbody tr th:only-of-type {\n",
       "        vertical-align: middle;\n",
       "    }\n",
       "\n",
       "    .dataframe tbody tr th {\n",
       "        vertical-align: top;\n",
       "    }\n",
       "\n",
       "    .dataframe thead th {\n",
       "        text-align: right;\n",
       "    }\n",
       "</style>\n",
       "<table border=\"1\" class=\"dataframe\">\n",
       "  <thead>\n",
       "    <tr style=\"text-align: right;\">\n",
       "      <th></th>\n",
       "      <th>number</th>\n",
       "      <th>first_name</th>\n",
       "      <th>last_name</th>\n",
       "      <th>gender</th>\n",
       "      <th>birth_date</th>\n",
       "      <th>employment_status</th>\n",
       "      <th>annual_salary</th>\n",
       "      <th>tax_file_no</th>\n",
       "    </tr>\n",
       "  </thead>\n",
       "  <tbody>\n",
       "    <tr>\n",
       "      <th>0</th>\n",
       "      <td>NaN</td>\n",
       "      <td>NaN</td>\n",
       "      <td>NaN</td>\n",
       "      <td>NaN</td>\n",
       "      <td>NaN</td>\n",
       "      <td>NaN</td>\n",
       "      <td>NaN</td>\n",
       "      <td>NaN</td>\n",
       "    </tr>\n",
       "    <tr>\n",
       "      <th>1</th>\n",
       "      <td>478.0</td>\n",
       "      <td>Palma</td>\n",
       "      <td>Beahan</td>\n",
       "      <td>F</td>\n",
       "      <td>1972-05-06</td>\n",
       "      <td>PE</td>\n",
       "      <td>124103.0</td>\n",
       "      <td>NaN</td>\n",
       "    </tr>\n",
       "    <tr>\n",
       "      <th>2</th>\n",
       "      <td>348.0</td>\n",
       "      <td>Hebert</td>\n",
       "      <td>Muller</td>\n",
       "      <td>M</td>\n",
       "      <td>1990-09-04</td>\n",
       "      <td>PE</td>\n",
       "      <td>100324.0</td>\n",
       "      <td>NaN</td>\n",
       "    </tr>\n",
       "    <tr>\n",
       "      <th>3</th>\n",
       "      <td>757.0</td>\n",
       "      <td>Virginia</td>\n",
       "      <td>Ullrich</td>\n",
       "      <td>M</td>\n",
       "      <td>1991-09-23</td>\n",
       "      <td>PE</td>\n",
       "      <td>144957.0</td>\n",
       "      <td>NaN</td>\n",
       "    </tr>\n",
       "    <tr>\n",
       "      <th>4</th>\n",
       "      <td>937.0</td>\n",
       "      <td>Roby</td>\n",
       "      <td>Hudson</td>\n",
       "      <td>M</td>\n",
       "      <td>1997-01-15</td>\n",
       "      <td>NaN</td>\n",
       "      <td>137659.0</td>\n",
       "      <td>NaN</td>\n",
       "    </tr>\n",
       "    <tr>\n",
       "      <th>...</th>\n",
       "      <td>...</td>\n",
       "      <td>...</td>\n",
       "      <td>...</td>\n",
       "      <td>...</td>\n",
       "      <td>...</td>\n",
       "      <td>...</td>\n",
       "      <td>...</td>\n",
       "      <td>...</td>\n",
       "    </tr>\n",
       "    <tr>\n",
       "      <th>995</th>\n",
       "      <td>712.0</td>\n",
       "      <td>Dann</td>\n",
       "      <td>Crooks</td>\n",
       "      <td>NaN</td>\n",
       "      <td>1983-12-25</td>\n",
       "      <td>CA</td>\n",
       "      <td>66592.0</td>\n",
       "      <td>NaN</td>\n",
       "    </tr>\n",
       "    <tr>\n",
       "      <th>996</th>\n",
       "      <td>132.0</td>\n",
       "      <td>Maxim</td>\n",
       "      <td>Orn</td>\n",
       "      <td>M</td>\n",
       "      <td>1971-03-01</td>\n",
       "      <td>CA</td>\n",
       "      <td>127966.0</td>\n",
       "      <td>NaN</td>\n",
       "    </tr>\n",
       "    <tr>\n",
       "      <th>997</th>\n",
       "      <td>126.0</td>\n",
       "      <td>Kimberli</td>\n",
       "      <td>Walter</td>\n",
       "      <td>M</td>\n",
       "      <td>1976-03-07</td>\n",
       "      <td>CA</td>\n",
       "      <td>60712.0</td>\n",
       "      <td>NaN</td>\n",
       "    </tr>\n",
       "    <tr>\n",
       "      <th>998</th>\n",
       "      <td>277.0</td>\n",
       "      <td>Talmage</td>\n",
       "      <td>Bartell</td>\n",
       "      <td>F</td>\n",
       "      <td>1989-02-19</td>\n",
       "      <td>PE</td>\n",
       "      <td>103606.0</td>\n",
       "      <td>NaN</td>\n",
       "    </tr>\n",
       "    <tr>\n",
       "      <th>999</th>\n",
       "      <td>960.0</td>\n",
       "      <td>Laurie</td>\n",
       "      <td>Nienow</td>\n",
       "      <td>M</td>\n",
       "      <td>1993-04-01</td>\n",
       "      <td>PE</td>\n",
       "      <td>127405.0</td>\n",
       "      <td>NaN</td>\n",
       "    </tr>\n",
       "  </tbody>\n",
       "</table>\n",
       "<p>1000 rows × 8 columns</p>\n",
       "</div>"
      ],
      "text/plain": [
       "     number first_name last_name gender  birth_date employment_status  \\\n",
       "0       NaN        NaN       NaN    NaN         NaN               NaN   \n",
       "1     478.0      Palma    Beahan      F  1972-05-06                PE   \n",
       "2     348.0     Hebert    Muller      M  1990-09-04                PE   \n",
       "3     757.0   Virginia   Ullrich      M  1991-09-23                PE   \n",
       "4     937.0       Roby    Hudson      M  1997-01-15               NaN   \n",
       "..      ...        ...       ...    ...         ...               ...   \n",
       "995   712.0       Dann    Crooks    NaN  1983-12-25                CA   \n",
       "996   132.0      Maxim       Orn      M  1971-03-01                CA   \n",
       "997   126.0   Kimberli    Walter      M  1976-03-07                CA   \n",
       "998   277.0    Talmage   Bartell      F  1989-02-19                PE   \n",
       "999   960.0     Laurie    Nienow      M  1993-04-01                PE   \n",
       "\n",
       "     annual_salary  tax_file_no  \n",
       "0              NaN          NaN  \n",
       "1         124103.0          NaN  \n",
       "2         100324.0          NaN  \n",
       "3         144957.0          NaN  \n",
       "4         137659.0          NaN  \n",
       "..             ...          ...  \n",
       "995        66592.0          NaN  \n",
       "996       127966.0          NaN  \n",
       "997        60712.0          NaN  \n",
       "998       103606.0          NaN  \n",
       "999       127405.0          NaN  \n",
       "\n",
       "[1000 rows x 8 columns]"
      ]
     },
     "execution_count": 29,
     "metadata": {},
     "output_type": "execute_result"
    }
   ],
   "source": [
    "df_employee.loc[0:0, :] = np.nan\n",
    "df_employee"
   ]
  },
  {
   "cell_type": "code",
   "execution_count": 38,
   "id": "9d66bf39",
   "metadata": {
    "ExecuteTime": {
     "end_time": "2022-11-15T12:31:34.596884Z",
     "start_time": "2022-11-15T12:31:34.576937Z"
    }
   },
   "outputs": [
    {
     "data": {
      "text/html": [
       "<div>\n",
       "<style scoped>\n",
       "    .dataframe tbody tr th:only-of-type {\n",
       "        vertical-align: middle;\n",
       "    }\n",
       "\n",
       "    .dataframe tbody tr th {\n",
       "        vertical-align: top;\n",
       "    }\n",
       "\n",
       "    .dataframe thead th {\n",
       "        text-align: right;\n",
       "    }\n",
       "</style>\n",
       "<table border=\"1\" class=\"dataframe\">\n",
       "  <thead>\n",
       "    <tr style=\"text-align: right;\">\n",
       "      <th></th>\n",
       "      <th>number</th>\n",
       "      <th>first_name</th>\n",
       "      <th>last_name</th>\n",
       "      <th>gender</th>\n",
       "      <th>birth_date</th>\n",
       "      <th>employment_status</th>\n",
       "      <th>annual_salary</th>\n",
       "      <th>tax_file_no</th>\n",
       "    </tr>\n",
       "  </thead>\n",
       "  <tbody>\n",
       "    <tr>\n",
       "      <th>1</th>\n",
       "      <td>478.0</td>\n",
       "      <td>Palma</td>\n",
       "      <td>Beahan</td>\n",
       "      <td>F</td>\n",
       "      <td>1972-05-06</td>\n",
       "      <td>PE</td>\n",
       "      <td>124103.0</td>\n",
       "      <td>NaN</td>\n",
       "    </tr>\n",
       "    <tr>\n",
       "      <th>2</th>\n",
       "      <td>348.0</td>\n",
       "      <td>Hebert</td>\n",
       "      <td>Muller</td>\n",
       "      <td>M</td>\n",
       "      <td>1990-09-04</td>\n",
       "      <td>PE</td>\n",
       "      <td>100324.0</td>\n",
       "      <td>NaN</td>\n",
       "    </tr>\n",
       "    <tr>\n",
       "      <th>3</th>\n",
       "      <td>757.0</td>\n",
       "      <td>Virginia</td>\n",
       "      <td>Ullrich</td>\n",
       "      <td>M</td>\n",
       "      <td>1991-09-23</td>\n",
       "      <td>PE</td>\n",
       "      <td>144957.0</td>\n",
       "      <td>NaN</td>\n",
       "    </tr>\n",
       "    <tr>\n",
       "      <th>4</th>\n",
       "      <td>937.0</td>\n",
       "      <td>Roby</td>\n",
       "      <td>Hudson</td>\n",
       "      <td>M</td>\n",
       "      <td>1997-01-15</td>\n",
       "      <td>NaN</td>\n",
       "      <td>137659.0</td>\n",
       "      <td>NaN</td>\n",
       "    </tr>\n",
       "    <tr>\n",
       "      <th>5</th>\n",
       "      <td>264.0</td>\n",
       "      <td>Jaeda</td>\n",
       "      <td>Effertz</td>\n",
       "      <td>NaN</td>\n",
       "      <td>1994-03-21</td>\n",
       "      <td>PE</td>\n",
       "      <td>131924.0</td>\n",
       "      <td>NaN</td>\n",
       "    </tr>\n",
       "  </tbody>\n",
       "</table>\n",
       "</div>"
      ],
      "text/plain": [
       "   number first_name last_name gender  birth_date employment_status  \\\n",
       "1   478.0      Palma    Beahan      F  1972-05-06                PE   \n",
       "2   348.0     Hebert    Muller      M  1990-09-04                PE   \n",
       "3   757.0   Virginia   Ullrich      M  1991-09-23                PE   \n",
       "4   937.0       Roby    Hudson      M  1997-01-15               NaN   \n",
       "5   264.0      Jaeda   Effertz    NaN  1994-03-21                PE   \n",
       "\n",
       "   annual_salary  tax_file_no  \n",
       "1       124103.0          NaN  \n",
       "2       100324.0          NaN  \n",
       "3       144957.0          NaN  \n",
       "4       137659.0          NaN  \n",
       "5       131924.0          NaN  "
      ]
     },
     "execution_count": 38,
     "metadata": {},
     "output_type": "execute_result"
    }
   ],
   "source": [
    "df_employee.dropna(axis = \"rows\", how = \"all\").head()"
   ]
  },
  {
   "cell_type": "code",
   "execution_count": 34,
   "id": "fc38dfe0",
   "metadata": {
    "ExecuteTime": {
     "end_time": "2022-11-15T12:29:32.354089Z",
     "start_time": "2022-11-15T12:29:32.331151Z"
    }
   },
   "outputs": [
    {
     "data": {
      "text/html": [
       "<div>\n",
       "<style scoped>\n",
       "    .dataframe tbody tr th:only-of-type {\n",
       "        vertical-align: middle;\n",
       "    }\n",
       "\n",
       "    .dataframe tbody tr th {\n",
       "        vertical-align: top;\n",
       "    }\n",
       "\n",
       "    .dataframe thead th {\n",
       "        text-align: right;\n",
       "    }\n",
       "</style>\n",
       "<table border=\"1\" class=\"dataframe\">\n",
       "  <thead>\n",
       "    <tr style=\"text-align: right;\">\n",
       "      <th></th>\n",
       "      <th>number</th>\n",
       "      <th>first_name</th>\n",
       "      <th>last_name</th>\n",
       "      <th>gender</th>\n",
       "      <th>birth_date</th>\n",
       "      <th>employment_status</th>\n",
       "      <th>annual_salary</th>\n",
       "    </tr>\n",
       "  </thead>\n",
       "  <tbody>\n",
       "    <tr>\n",
       "      <th>0</th>\n",
       "      <td>NaN</td>\n",
       "      <td>NaN</td>\n",
       "      <td>NaN</td>\n",
       "      <td>NaN</td>\n",
       "      <td>NaN</td>\n",
       "      <td>NaN</td>\n",
       "      <td>NaN</td>\n",
       "    </tr>\n",
       "    <tr>\n",
       "      <th>1</th>\n",
       "      <td>478.0</td>\n",
       "      <td>Palma</td>\n",
       "      <td>Beahan</td>\n",
       "      <td>F</td>\n",
       "      <td>1972-05-06</td>\n",
       "      <td>PE</td>\n",
       "      <td>124103.0</td>\n",
       "    </tr>\n",
       "    <tr>\n",
       "      <th>2</th>\n",
       "      <td>348.0</td>\n",
       "      <td>Hebert</td>\n",
       "      <td>Muller</td>\n",
       "      <td>M</td>\n",
       "      <td>1990-09-04</td>\n",
       "      <td>PE</td>\n",
       "      <td>100324.0</td>\n",
       "    </tr>\n",
       "    <tr>\n",
       "      <th>3</th>\n",
       "      <td>757.0</td>\n",
       "      <td>Virginia</td>\n",
       "      <td>Ullrich</td>\n",
       "      <td>M</td>\n",
       "      <td>1991-09-23</td>\n",
       "      <td>PE</td>\n",
       "      <td>144957.0</td>\n",
       "    </tr>\n",
       "    <tr>\n",
       "      <th>4</th>\n",
       "      <td>937.0</td>\n",
       "      <td>Roby</td>\n",
       "      <td>Hudson</td>\n",
       "      <td>M</td>\n",
       "      <td>1997-01-15</td>\n",
       "      <td>NaN</td>\n",
       "      <td>137659.0</td>\n",
       "    </tr>\n",
       "  </tbody>\n",
       "</table>\n",
       "</div>"
      ],
      "text/plain": [
       "   number first_name last_name gender  birth_date employment_status  \\\n",
       "0     NaN        NaN       NaN    NaN         NaN               NaN   \n",
       "1   478.0      Palma    Beahan      F  1972-05-06                PE   \n",
       "2   348.0     Hebert    Muller      M  1990-09-04                PE   \n",
       "3   757.0   Virginia   Ullrich      M  1991-09-23                PE   \n",
       "4   937.0       Roby    Hudson      M  1997-01-15               NaN   \n",
       "\n",
       "   annual_salary  \n",
       "0            NaN  \n",
       "1       124103.0  \n",
       "2       100324.0  \n",
       "3       144957.0  \n",
       "4       137659.0  "
      ]
     },
     "execution_count": 34,
     "metadata": {},
     "output_type": "execute_result"
    }
   ],
   "source": [
    "df_employee.drop([\"tax_file_no\"], axis = 1).head()"
   ]
  },
  {
   "cell_type": "code",
   "execution_count": 37,
   "id": "d2c20443",
   "metadata": {
    "ExecuteTime": {
     "end_time": "2022-11-15T12:31:12.535172Z",
     "start_time": "2022-11-15T12:31:12.515225Z"
    }
   },
   "outputs": [
    {
     "data": {
      "text/html": [
       "<div>\n",
       "<style scoped>\n",
       "    .dataframe tbody tr th:only-of-type {\n",
       "        vertical-align: middle;\n",
       "    }\n",
       "\n",
       "    .dataframe tbody tr th {\n",
       "        vertical-align: top;\n",
       "    }\n",
       "\n",
       "    .dataframe thead th {\n",
       "        text-align: right;\n",
       "    }\n",
       "</style>\n",
       "<table border=\"1\" class=\"dataframe\">\n",
       "  <thead>\n",
       "    <tr style=\"text-align: right;\">\n",
       "      <th></th>\n",
       "      <th>number</th>\n",
       "      <th>first_name</th>\n",
       "      <th>last_name</th>\n",
       "      <th>gender</th>\n",
       "      <th>birth_date</th>\n",
       "      <th>employment_status</th>\n",
       "      <th>annual_salary</th>\n",
       "    </tr>\n",
       "  </thead>\n",
       "  <tbody>\n",
       "    <tr>\n",
       "      <th>0</th>\n",
       "      <td>NaN</td>\n",
       "      <td>NaN</td>\n",
       "      <td>NaN</td>\n",
       "      <td>NaN</td>\n",
       "      <td>NaN</td>\n",
       "      <td>NaN</td>\n",
       "      <td>NaN</td>\n",
       "    </tr>\n",
       "    <tr>\n",
       "      <th>1</th>\n",
       "      <td>478.0</td>\n",
       "      <td>Palma</td>\n",
       "      <td>Beahan</td>\n",
       "      <td>F</td>\n",
       "      <td>1972-05-06</td>\n",
       "      <td>PE</td>\n",
       "      <td>124103.0</td>\n",
       "    </tr>\n",
       "    <tr>\n",
       "      <th>2</th>\n",
       "      <td>348.0</td>\n",
       "      <td>Hebert</td>\n",
       "      <td>Muller</td>\n",
       "      <td>M</td>\n",
       "      <td>1990-09-04</td>\n",
       "      <td>PE</td>\n",
       "      <td>100324.0</td>\n",
       "    </tr>\n",
       "    <tr>\n",
       "      <th>3</th>\n",
       "      <td>757.0</td>\n",
       "      <td>Virginia</td>\n",
       "      <td>Ullrich</td>\n",
       "      <td>M</td>\n",
       "      <td>1991-09-23</td>\n",
       "      <td>PE</td>\n",
       "      <td>144957.0</td>\n",
       "    </tr>\n",
       "    <tr>\n",
       "      <th>4</th>\n",
       "      <td>937.0</td>\n",
       "      <td>Roby</td>\n",
       "      <td>Hudson</td>\n",
       "      <td>M</td>\n",
       "      <td>1997-01-15</td>\n",
       "      <td>NaN</td>\n",
       "      <td>137659.0</td>\n",
       "    </tr>\n",
       "  </tbody>\n",
       "</table>\n",
       "</div>"
      ],
      "text/plain": [
       "   number first_name last_name gender  birth_date employment_status  \\\n",
       "0     NaN        NaN       NaN    NaN         NaN               NaN   \n",
       "1   478.0      Palma    Beahan      F  1972-05-06                PE   \n",
       "2   348.0     Hebert    Muller      M  1990-09-04                PE   \n",
       "3   757.0   Virginia   Ullrich      M  1991-09-23                PE   \n",
       "4   937.0       Roby    Hudson      M  1997-01-15               NaN   \n",
       "\n",
       "   annual_salary  \n",
       "0            NaN  \n",
       "1       124103.0  \n",
       "2       100324.0  \n",
       "3       144957.0  \n",
       "4       137659.0  "
      ]
     },
     "execution_count": 37,
     "metadata": {},
     "output_type": "execute_result"
    }
   ],
   "source": [
    "df_employee.dropna(axis = \"columns\", how = \"all\").head()"
   ]
  },
  {
   "cell_type": "markdown",
   "id": "afa45434",
   "metadata": {},
   "source": [
    "#### corregir utilizando la función fillna de pandas"
   ]
  },
  {
   "cell_type": "markdown",
   "id": "f97d15a8",
   "metadata": {},
   "source": [
    "#### Aplicar una función personalizada"
   ]
  },
  {
   "cell_type": "code",
   "execution_count": 40,
   "id": "953b6c5b",
   "metadata": {
    "ExecuteTime": {
     "end_time": "2022-11-15T12:34:42.776502Z",
     "start_time": "2022-11-15T12:34:42.754601Z"
    }
   },
   "outputs": [
    {
     "data": {
      "text/plain": [
       "PE    599\n",
       "CA    109\n",
       "TE    103\n",
       "Name: employment_status, dtype: int64"
      ]
     },
     "execution_count": 40,
     "metadata": {},
     "output_type": "execute_result"
    }
   ],
   "source": [
    "df_employee[\"employment_status\"].value_counts()"
   ]
  },
  {
   "cell_type": "code",
   "execution_count": 42,
   "id": "92b2e196",
   "metadata": {
    "ExecuteTime": {
     "end_time": "2022-11-15T12:35:07.987532Z",
     "start_time": "2022-11-15T12:35:07.970052Z"
    }
   },
   "outputs": [],
   "source": [
    "df_employee[\"employment_status\"] = df_employee[\"employment_status\"].fillna(\"PE\")"
   ]
  },
  {
   "cell_type": "code",
   "execution_count": 52,
   "id": "cb092810",
   "metadata": {
    "ExecuteTime": {
     "end_time": "2022-11-15T12:50:05.417944Z",
     "start_time": "2022-11-15T12:50:05.386019Z"
    }
   },
   "outputs": [
    {
     "data": {
      "text/html": [
       "<div>\n",
       "<style scoped>\n",
       "    .dataframe tbody tr th:only-of-type {\n",
       "        vertical-align: middle;\n",
       "    }\n",
       "\n",
       "    .dataframe tbody tr th {\n",
       "        vertical-align: top;\n",
       "    }\n",
       "\n",
       "    .dataframe thead th {\n",
       "        text-align: right;\n",
       "    }\n",
       "</style>\n",
       "<table border=\"1\" class=\"dataframe\">\n",
       "  <thead>\n",
       "    <tr style=\"text-align: right;\">\n",
       "      <th></th>\n",
       "      <th>number</th>\n",
       "      <th>first_name</th>\n",
       "      <th>last_name</th>\n",
       "      <th>gender</th>\n",
       "      <th>birth_date</th>\n",
       "      <th>employment_status</th>\n",
       "      <th>annual_salary</th>\n",
       "      <th>tax_file_no</th>\n",
       "    </tr>\n",
       "  </thead>\n",
       "  <tbody>\n",
       "    <tr>\n",
       "      <th>0</th>\n",
       "      <td>NaN</td>\n",
       "      <td>NaN</td>\n",
       "      <td>NaN</td>\n",
       "      <td>NaN</td>\n",
       "      <td>NaN</td>\n",
       "      <td>PE</td>\n",
       "      <td>NaN</td>\n",
       "      <td>NaN</td>\n",
       "    </tr>\n",
       "    <tr>\n",
       "      <th>1</th>\n",
       "      <td>478.0</td>\n",
       "      <td>Palma</td>\n",
       "      <td>Beahan</td>\n",
       "      <td>F</td>\n",
       "      <td>1972-05-06</td>\n",
       "      <td>PE</td>\n",
       "      <td>124103.0</td>\n",
       "      <td>NaN</td>\n",
       "    </tr>\n",
       "    <tr>\n",
       "      <th>2</th>\n",
       "      <td>348.0</td>\n",
       "      <td>Hebert</td>\n",
       "      <td>Muller</td>\n",
       "      <td>M</td>\n",
       "      <td>1990-09-04</td>\n",
       "      <td>PE</td>\n",
       "      <td>100324.0</td>\n",
       "      <td>NaN</td>\n",
       "    </tr>\n",
       "    <tr>\n",
       "      <th>3</th>\n",
       "      <td>757.0</td>\n",
       "      <td>Virginia</td>\n",
       "      <td>Ullrich</td>\n",
       "      <td>M</td>\n",
       "      <td>1991-09-23</td>\n",
       "      <td>PE</td>\n",
       "      <td>144957.0</td>\n",
       "      <td>NaN</td>\n",
       "    </tr>\n",
       "    <tr>\n",
       "      <th>4</th>\n",
       "      <td>937.0</td>\n",
       "      <td>Roby</td>\n",
       "      <td>Hudson</td>\n",
       "      <td>M</td>\n",
       "      <td>1997-01-15</td>\n",
       "      <td>PE</td>\n",
       "      <td>137659.0</td>\n",
       "      <td>NaN</td>\n",
       "    </tr>\n",
       "    <tr>\n",
       "      <th>...</th>\n",
       "      <td>...</td>\n",
       "      <td>...</td>\n",
       "      <td>...</td>\n",
       "      <td>...</td>\n",
       "      <td>...</td>\n",
       "      <td>...</td>\n",
       "      <td>...</td>\n",
       "      <td>...</td>\n",
       "    </tr>\n",
       "    <tr>\n",
       "      <th>995</th>\n",
       "      <td>712.0</td>\n",
       "      <td>Dann</td>\n",
       "      <td>Crooks</td>\n",
       "      <td>NaN</td>\n",
       "      <td>1983-12-25</td>\n",
       "      <td>CA</td>\n",
       "      <td>66592.0</td>\n",
       "      <td>NaN</td>\n",
       "    </tr>\n",
       "    <tr>\n",
       "      <th>996</th>\n",
       "      <td>132.0</td>\n",
       "      <td>Maxim</td>\n",
       "      <td>Orn</td>\n",
       "      <td>M</td>\n",
       "      <td>1971-03-01</td>\n",
       "      <td>CA</td>\n",
       "      <td>127966.0</td>\n",
       "      <td>NaN</td>\n",
       "    </tr>\n",
       "    <tr>\n",
       "      <th>997</th>\n",
       "      <td>126.0</td>\n",
       "      <td>Kimberli</td>\n",
       "      <td>Walter</td>\n",
       "      <td>M</td>\n",
       "      <td>1976-03-07</td>\n",
       "      <td>CA</td>\n",
       "      <td>60712.0</td>\n",
       "      <td>NaN</td>\n",
       "    </tr>\n",
       "    <tr>\n",
       "      <th>998</th>\n",
       "      <td>277.0</td>\n",
       "      <td>Talmage</td>\n",
       "      <td>Bartell</td>\n",
       "      <td>F</td>\n",
       "      <td>1989-02-19</td>\n",
       "      <td>PE</td>\n",
       "      <td>103606.0</td>\n",
       "      <td>NaN</td>\n",
       "    </tr>\n",
       "    <tr>\n",
       "      <th>999</th>\n",
       "      <td>960.0</td>\n",
       "      <td>Laurie</td>\n",
       "      <td>Nienow</td>\n",
       "      <td>M</td>\n",
       "      <td>1993-04-01</td>\n",
       "      <td>PE</td>\n",
       "      <td>127405.0</td>\n",
       "      <td>NaN</td>\n",
       "    </tr>\n",
       "  </tbody>\n",
       "</table>\n",
       "<p>1000 rows × 8 columns</p>\n",
       "</div>"
      ],
      "text/plain": [
       "     number first_name last_name gender  birth_date employment_status  \\\n",
       "0       NaN        NaN       NaN    NaN         NaN                PE   \n",
       "1     478.0      Palma    Beahan      F  1972-05-06                PE   \n",
       "2     348.0     Hebert    Muller      M  1990-09-04                PE   \n",
       "3     757.0   Virginia   Ullrich      M  1991-09-23                PE   \n",
       "4     937.0       Roby    Hudson      M  1997-01-15                PE   \n",
       "..      ...        ...       ...    ...         ...               ...   \n",
       "995   712.0       Dann    Crooks    NaN  1983-12-25                CA   \n",
       "996   132.0      Maxim       Orn      M  1971-03-01                CA   \n",
       "997   126.0   Kimberli    Walter      M  1976-03-07                CA   \n",
       "998   277.0    Talmage   Bartell      F  1989-02-19                PE   \n",
       "999   960.0     Laurie    Nienow      M  1993-04-01                PE   \n",
       "\n",
       "     annual_salary  tax_file_no  \n",
       "0              NaN          NaN  \n",
       "1         124103.0          NaN  \n",
       "2         100324.0          NaN  \n",
       "3         144957.0          NaN  \n",
       "4         137659.0          NaN  \n",
       "..             ...          ...  \n",
       "995        66592.0          NaN  \n",
       "996       127966.0          NaN  \n",
       "997        60712.0          NaN  \n",
       "998       103606.0          NaN  \n",
       "999       127405.0          NaN  \n",
       "\n",
       "[1000 rows x 8 columns]"
      ]
     },
     "execution_count": 52,
     "metadata": {},
     "output_type": "execute_result"
    }
   ],
   "source": [
    "df_employee"
   ]
  },
  {
   "cell_type": "code",
   "execution_count": 51,
   "id": "86bbc82e",
   "metadata": {
    "ExecuteTime": {
     "end_time": "2022-11-15T12:48:48.582116Z",
     "start_time": "2022-11-15T12:48:48.570031Z"
    }
   },
   "outputs": [],
   "source": [
    "def clasificar_genero(item, gender):\n",
    "    \n",
    "    if not pd.isna(gender):\n",
    "        return gender\n",
    "    \n",
    "    elif item.endswith(\"o\") or item.endswith(\"r\") or item.endswith(\"d\"):\n",
    "        return \"M\"\n",
    "    \n",
    "    else:\n",
    "        return \"F\""
   ]
  },
  {
   "cell_type": "code",
   "execution_count": 60,
   "id": "78ea7e55",
   "metadata": {
    "ExecuteTime": {
     "end_time": "2022-11-15T12:52:44.017957Z",
     "start_time": "2022-11-15T12:52:44.001992Z"
    }
   },
   "outputs": [],
   "source": [
    "df_employee[\"first_name\"] = df_employee[\"first_name\"].fillna(\"\")\n",
    "\n",
    "df_employee[\"gender\"] = df_employee.apply(lambda x: clasificar_genero(x[\"first_name\"], x[\"gender\"]), axis = 1)\n",
    "df_employee"
   ]
  },
  {
   "cell_type": "markdown",
   "id": "4e34302d",
   "metadata": {},
   "source": [
    "# Ejercicio\n",
    "\n",
    "- Cargar un dataset: adult, athletes, ERC, autos, house_data\n",
    "- Calcular medidas de tendencia central\n",
    "- Calcular medidas de dispersion\n",
    "- Medidas de Correlacion\n",
    "- Realizar minimo 5 graficos diferentes (barplot, pie chart, histograma, consultar 2 mas)\n",
    "- Realizar 5 conclusiones a partir de las medidas calculadas\n",
    "- Realizar una documentacion, archivo word y pdf\n",
    "- Realizar en lo posible un codigo con funciones si asi lo requiere, y cada funcion documentada"
   ]
  },
  {
   "cell_type": "code",
   "execution_count": null,
   "id": "fabc2925",
   "metadata": {},
   "outputs": [],
   "source": [
    "Introduccion\n",
    "Resumen\n",
    "objetivos\n",
    "alcances\n",
    "proceso, que se analizó, graficas ... etc\n",
    "conclusiones\n",
    "Anexos"
   ]
  },
  {
   "cell_type": "markdown",
   "id": "28a6721f",
   "metadata": {},
   "source": [
    "### Employment status"
   ]
  },
  {
   "cell_type": "code",
   "execution_count": 63,
   "id": "03638d6d",
   "metadata": {
    "ExecuteTime": {
     "end_time": "2022-11-15T13:00:55.925106Z",
     "start_time": "2022-11-15T13:00:55.914191Z"
    }
   },
   "outputs": [
    {
     "data": {
      "text/plain": [
       "number               float64\n",
       "first_name            object\n",
       "last_name             object\n",
       "gender                object\n",
       "birth_date            object\n",
       "employment_status     object\n",
       "annual_salary        float64\n",
       "tax_file_no          float64\n",
       "dtype: object"
      ]
     },
     "execution_count": 63,
     "metadata": {},
     "output_type": "execute_result"
    }
   ],
   "source": [
    "df_employee.dtypes"
   ]
  },
  {
   "cell_type": "code",
   "execution_count": 65,
   "id": "64e91bd5",
   "metadata": {
    "ExecuteTime": {
     "end_time": "2022-11-15T13:05:49.817550Z",
     "start_time": "2022-11-15T13:05:49.792630Z"
    }
   },
   "outputs": [],
   "source": [
    "df_employee[\"employment_status\"] = df_employee[\"employment_status\"].astype(\"category\")"
   ]
  },
  {
   "cell_type": "code",
   "execution_count": 84,
   "id": "a40e2c69",
   "metadata": {
    "ExecuteTime": {
     "end_time": "2022-11-15T13:13:18.456784Z",
     "start_time": "2022-11-15T13:13:18.447380Z"
    }
   },
   "outputs": [],
   "source": [
    "y = df_employee[\"employment_status\"].value_counts()"
   ]
  },
  {
   "cell_type": "code",
   "execution_count": 87,
   "id": "e00fa2d3",
   "metadata": {
    "ExecuteTime": {
     "end_time": "2022-11-15T13:14:08.080931Z",
     "start_time": "2022-11-15T13:14:08.065974Z"
    }
   },
   "outputs": [
    {
     "name": "stdout",
     "output_type": "stream",
     "text": [
      "['CA', 'PE', 'TE']\n",
      "[109, 788, 103]\n"
     ]
    }
   ],
   "source": [
    "labels = df_employee[\"employment_status\"].cat.categories.tolist()\n",
    "print(labels)\n",
    "print([y[var] for var in labels])"
   ]
  },
  {
   "cell_type": "code",
   "execution_count": 81,
   "id": "c44b6b20",
   "metadata": {
    "ExecuteTime": {
     "end_time": "2022-11-15T13:08:54.386295Z",
     "start_time": "2022-11-15T13:08:54.368261Z"
    }
   },
   "outputs": [
    {
     "data": {
      "text/plain": [
       "['PE', 'CA', 'TE']"
      ]
     },
     "execution_count": 81,
     "metadata": {},
     "output_type": "execute_result"
    }
   ],
   "source": [
    "df_employee[\"employment_status\"].value_counts().index.tolist()"
   ]
  },
  {
   "cell_type": "code",
   "execution_count": 82,
   "id": "3aa30cf7",
   "metadata": {
    "ExecuteTime": {
     "end_time": "2022-11-15T13:09:08.995208Z",
     "start_time": "2022-11-15T13:09:08.986234Z"
    }
   },
   "outputs": [
    {
     "data": {
      "text/plain": [
       "[788, 109, 103]"
      ]
     },
     "execution_count": 82,
     "metadata": {},
     "output_type": "execute_result"
    }
   ],
   "source": [
    "df_employee[\"employment_status\"].value_counts().values.tolist()"
   ]
  },
  {
   "cell_type": "code",
   "execution_count": 129,
   "id": "b5d0ce7f",
   "metadata": {
    "ExecuteTime": {
     "end_time": "2022-11-15T13:28:23.882537Z",
     "start_time": "2022-11-15T13:28:23.870999Z"
    }
   },
   "outputs": [],
   "source": [
    "def plot_pie_chart(df = pd.DataFrame(), \n",
    "                   fig_size = (5, 5), \n",
    "                   color = [\"b\", \"r\", \"y\"], \n",
    "                   shadow = True, \n",
    "                   explode = (0, 0, 0),\n",
    "                   category = str):\n",
    "    \n",
    "    df[category] = df[category].astype(\"category\")\n",
    "    labels = df[category].cat.categories.tolist()\n",
    "    counts = df[category].value_counts()\n",
    "    sizes = [counts[var] for var in labels]\n",
    "    \n",
    "    fig, axs = plt.subplots(figsize = fig_size)\n",
    "    \n",
    "    axs.pie(sizes, \n",
    "            labels = labels, \n",
    "            autopct = \"%1.1f%%\", \n",
    "            colors = color, \n",
    "            shadow = shadow, \n",
    "            explode = explode)"
   ]
  },
  {
   "cell_type": "code",
   "execution_count": 131,
   "id": "5377e8b0",
   "metadata": {
    "ExecuteTime": {
     "end_time": "2022-11-15T13:28:38.554984Z",
     "start_time": "2022-11-15T13:28:38.442218Z"
    }
   },
   "outputs": [
    {
     "data": {
      "image/png": "[encoded data removed]",
      "text/plain": [
       "<Figure size 360x360 with 1 Axes>"
      ]
     },
     "metadata": {},
     "output_type": "display_data"
    }
   ],
   "source": [
    "plot_pie_chart(df = df_employee, \n",
    "               explode = (0, 0.1),\n",
    "               color = [\"#4F6272\", \"#B7C3F3\", \"#DD7596\"],\n",
    "               category = \"gender\")"
   ]
  },
  {
   "cell_type": "code",
   "execution_count": 8,
   "id": "ef8d371b",
   "metadata": {
    "ExecuteTime": {
     "end_time": "2022-11-22T11:20:22.279559Z",
     "start_time": "2022-11-22T11:20:22.219430Z"
    }
   },
   "outputs": [
    {
     "data": {
      "text/html": [
       "<div>\n",
       "<style scoped>\n",
       "    .dataframe tbody tr th:only-of-type {\n",
       "        vertical-align: middle;\n",
       "    }\n",
       "\n",
       "    .dataframe tbody tr th {\n",
       "        vertical-align: top;\n",
       "    }\n",
       "\n",
       "    .dataframe thead th {\n",
       "        text-align: right;\n",
       "    }\n",
       "</style>\n",
       "<table border=\"1\" class=\"dataframe\">\n",
       "  <thead>\n",
       "    <tr style=\"text-align: right;\">\n",
       "      <th></th>\n",
       "      <th>area_type</th>\n",
       "      <th>availability</th>\n",
       "      <th>location</th>\n",
       "      <th>size</th>\n",
       "      <th>society</th>\n",
       "      <th>total_sqft</th>\n",
       "      <th>bath</th>\n",
       "      <th>balcony</th>\n",
       "      <th>price</th>\n",
       "    </tr>\n",
       "  </thead>\n",
       "  <tbody>\n",
       "    <tr>\n",
       "      <th>0</th>\n",
       "      <td>Super built-up  Area</td>\n",
       "      <td>19-Dec</td>\n",
       "      <td>Electronic City Phase II</td>\n",
       "      <td>2 BHK</td>\n",
       "      <td>Coomee</td>\n",
       "      <td>1056</td>\n",
       "      <td>2.0</td>\n",
       "      <td>1.0</td>\n",
       "      <td>39.07</td>\n",
       "    </tr>\n",
       "    <tr>\n",
       "      <th>1</th>\n",
       "      <td>Plot  Area</td>\n",
       "      <td>Ready To Move</td>\n",
       "      <td>Chikka Tirupathi</td>\n",
       "      <td>4 Bedroom</td>\n",
       "      <td>Theanmp</td>\n",
       "      <td>2600</td>\n",
       "      <td>5.0</td>\n",
       "      <td>3.0</td>\n",
       "      <td>120.00</td>\n",
       "    </tr>\n",
       "    <tr>\n",
       "      <th>2</th>\n",
       "      <td>Built-up  Area</td>\n",
       "      <td>Ready To Move</td>\n",
       "      <td>Uttarahalli</td>\n",
       "      <td>3 BHK</td>\n",
       "      <td>NaN</td>\n",
       "      <td>1440</td>\n",
       "      <td>2.0</td>\n",
       "      <td>3.0</td>\n",
       "      <td>62.00</td>\n",
       "    </tr>\n",
       "    <tr>\n",
       "      <th>3</th>\n",
       "      <td>Super built-up  Area</td>\n",
       "      <td>Ready To Move</td>\n",
       "      <td>Lingadheeranahalli</td>\n",
       "      <td>3 BHK</td>\n",
       "      <td>Soiewre</td>\n",
       "      <td>1521</td>\n",
       "      <td>3.0</td>\n",
       "      <td>1.0</td>\n",
       "      <td>95.00</td>\n",
       "    </tr>\n",
       "    <tr>\n",
       "      <th>4</th>\n",
       "      <td>Super built-up  Area</td>\n",
       "      <td>Ready To Move</td>\n",
       "      <td>Kothanur</td>\n",
       "      <td>2 BHK</td>\n",
       "      <td>NaN</td>\n",
       "      <td>1200</td>\n",
       "      <td>2.0</td>\n",
       "      <td>1.0</td>\n",
       "      <td>51.00</td>\n",
       "    </tr>\n",
       "    <tr>\n",
       "      <th>...</th>\n",
       "      <td>...</td>\n",
       "      <td>...</td>\n",
       "      <td>...</td>\n",
       "      <td>...</td>\n",
       "      <td>...</td>\n",
       "      <td>...</td>\n",
       "      <td>...</td>\n",
       "      <td>...</td>\n",
       "      <td>...</td>\n",
       "    </tr>\n",
       "    <tr>\n",
       "      <th>13315</th>\n",
       "      <td>Built-up  Area</td>\n",
       "      <td>Ready To Move</td>\n",
       "      <td>Whitefield</td>\n",
       "      <td>5 Bedroom</td>\n",
       "      <td>ArsiaEx</td>\n",
       "      <td>3453</td>\n",
       "      <td>4.0</td>\n",
       "      <td>0.0</td>\n",
       "      <td>231.00</td>\n",
       "    </tr>\n",
       "    <tr>\n",
       "      <th>13316</th>\n",
       "      <td>Super built-up  Area</td>\n",
       "      <td>Ready To Move</td>\n",
       "      <td>Richards Town</td>\n",
       "      <td>4 BHK</td>\n",
       "      <td>NaN</td>\n",
       "      <td>3600</td>\n",
       "      <td>5.0</td>\n",
       "      <td>NaN</td>\n",
       "      <td>400.00</td>\n",
       "    </tr>\n",
       "    <tr>\n",
       "      <th>13317</th>\n",
       "      <td>Built-up  Area</td>\n",
       "      <td>Ready To Move</td>\n",
       "      <td>Raja Rajeshwari Nagar</td>\n",
       "      <td>2 BHK</td>\n",
       "      <td>Mahla T</td>\n",
       "      <td>1141</td>\n",
       "      <td>2.0</td>\n",
       "      <td>1.0</td>\n",
       "      <td>60.00</td>\n",
       "    </tr>\n",
       "    <tr>\n",
       "      <th>13318</th>\n",
       "      <td>Super built-up  Area</td>\n",
       "      <td>18-Jun</td>\n",
       "      <td>Padmanabhanagar</td>\n",
       "      <td>4 BHK</td>\n",
       "      <td>SollyCl</td>\n",
       "      <td>4689</td>\n",
       "      <td>4.0</td>\n",
       "      <td>1.0</td>\n",
       "      <td>488.00</td>\n",
       "    </tr>\n",
       "    <tr>\n",
       "      <th>13319</th>\n",
       "      <td>Super built-up  Area</td>\n",
       "      <td>Ready To Move</td>\n",
       "      <td>Doddathoguru</td>\n",
       "      <td>1 BHK</td>\n",
       "      <td>NaN</td>\n",
       "      <td>550</td>\n",
       "      <td>1.0</td>\n",
       "      <td>1.0</td>\n",
       "      <td>17.00</td>\n",
       "    </tr>\n",
       "  </tbody>\n",
       "</table>\n",
       "<p>13320 rows × 9 columns</p>\n",
       "</div>"
      ],
      "text/plain": [
       "                  area_type   availability                  location  \\\n",
       "0      Super built-up  Area         19-Dec  Electronic City Phase II   \n",
       "1                Plot  Area  Ready To Move          Chikka Tirupathi   \n",
       "2            Built-up  Area  Ready To Move               Uttarahalli   \n",
       "3      Super built-up  Area  Ready To Move        Lingadheeranahalli   \n",
       "4      Super built-up  Area  Ready To Move                  Kothanur   \n",
       "...                     ...            ...                       ...   \n",
       "13315        Built-up  Area  Ready To Move                Whitefield   \n",
       "13316  Super built-up  Area  Ready To Move             Richards Town   \n",
       "13317        Built-up  Area  Ready To Move     Raja Rajeshwari Nagar   \n",
       "13318  Super built-up  Area         18-Jun           Padmanabhanagar   \n",
       "13319  Super built-up  Area  Ready To Move              Doddathoguru   \n",
       "\n",
       "            size  society total_sqft  bath  balcony   price  \n",
       "0          2 BHK  Coomee        1056   2.0      1.0   39.07  \n",
       "1      4 Bedroom  Theanmp       2600   5.0      3.0  120.00  \n",
       "2          3 BHK      NaN       1440   2.0      3.0   62.00  \n",
       "3          3 BHK  Soiewre       1521   3.0      1.0   95.00  \n",
       "4          2 BHK      NaN       1200   2.0      1.0   51.00  \n",
       "...          ...      ...        ...   ...      ...     ...  \n",
       "13315  5 Bedroom  ArsiaEx       3453   4.0      0.0  231.00  \n",
       "13316      4 BHK      NaN       3600   5.0      NaN  400.00  \n",
       "13317      2 BHK  Mahla T       1141   2.0      1.0   60.00  \n",
       "13318      4 BHK  SollyCl       4689   4.0      1.0  488.00  \n",
       "13319      1 BHK      NaN        550   1.0      1.0   17.00  \n",
       "\n",
       "[13320 rows x 9 columns]"
      ]
     },
     "execution_count": 8,
     "metadata": {},
     "output_type": "execute_result"
    }
   ],
   "source": [
    "df_house = pd.read_csv(\"./datasets/Bengaluru_House_Data.csv\")\n",
    "df_house"
   ]
  },
  {
   "cell_type": "code",
   "execution_count": 17,
   "id": "3efd6481",
   "metadata": {
    "ExecuteTime": {
     "end_time": "2022-11-22T11:23:01.390521Z",
     "start_time": "2022-11-22T11:23:01.365627Z"
    }
   },
   "outputs": [],
   "source": [
    "df_house = df_house[df_house[\"price\"] != 0]\n",
    "df_house.dropna(subset = [\"price\"], inplace = True)"
   ]
  },
  {
   "cell_type": "code",
   "execution_count": 21,
   "id": "5fc32c08",
   "metadata": {
    "ExecuteTime": {
     "end_time": "2022-11-22T11:29:17.004388Z",
     "start_time": "2022-11-22T11:29:16.988200Z"
    }
   },
   "outputs": [],
   "source": [
    "import seaborn as sns\n",
    "import numpy as np"
   ]
  },
  {
   "cell_type": "code",
   "execution_count": 19,
   "id": "a3be1058",
   "metadata": {
    "ExecuteTime": {
     "end_time": "2022-11-22T11:24:34.067641Z",
     "start_time": "2022-11-22T11:24:34.057666Z"
    }
   },
   "outputs": [
    {
     "data": {
      "text/plain": [
       "132.342064269226"
      ]
     },
     "execution_count": 19,
     "metadata": {},
     "output_type": "execute_result"
    }
   ],
   "source": [
    "cv = (df_house[\"price\"].std()/abs(df_house[\"price\"].mean()))*100\n",
    "cv"
   ]
  },
  {
   "cell_type": "code",
   "execution_count": 45,
   "id": "184f63ea",
   "metadata": {
    "ExecuteTime": {
     "end_time": "2022-11-22T11:46:18.883459Z",
     "start_time": "2022-11-22T11:46:18.565500Z"
    }
   },
   "outputs": [
    {
     "data": {
      "text/plain": [
       "<seaborn.axisgrid.FacetGrid at 0x1a5c6243460>"
      ]
     },
     "execution_count": 45,
     "metadata": {},
     "output_type": "execute_result"
    },
    {
     "data": {
      "image/png": "[encoded data removed]",
      "text/plain": [
       "<Figure size 360x360 with 1 Axes>"
      ]
     },
     "metadata": {
      "needs_background": "light"
     },
     "output_type": "display_data"
    }
   ],
   "source": [
    "sns.displot(df_house[\"bath\"], bins = 100)"
   ]
  },
  {
   "cell_type": "code",
   "execution_count": 26,
   "id": "73b0a457",
   "metadata": {
    "ExecuteTime": {
     "end_time": "2022-11-22T11:31:54.029385Z",
     "start_time": "2022-11-22T11:31:54.020409Z"
    }
   },
   "outputs": [],
   "source": [
    "Q3 = df_house[\"price\"].quantile(0.75)\n",
    "Q1 = df_house[\"price\"].quantile(0.25)"
   ]
  },
  {
   "cell_type": "code",
   "execution_count": 27,
   "id": "76487701",
   "metadata": {
    "ExecuteTime": {
     "end_time": "2022-11-22T11:31:56.078730Z",
     "start_time": "2022-11-22T11:31:56.068261Z"
    }
   },
   "outputs": [
    {
     "data": {
      "text/plain": [
       "70.0"
      ]
     },
     "execution_count": 27,
     "metadata": {},
     "output_type": "execute_result"
    }
   ],
   "source": [
    "IQR = Q3 - Q1\n",
    "IQR"
   ]
  },
  {
   "cell_type": "code",
   "execution_count": 76,
   "id": "5fa8fd33",
   "metadata": {
    "ExecuteTime": {
     "end_time": "2022-11-22T12:18:17.672137Z",
     "start_time": "2022-11-22T12:18:17.652351Z"
    }
   },
   "outputs": [],
   "source": [
    "def apply_IQR(df = pd.DataFrame(), upper = 1.5, lower = 1.5, col = str):\n",
    "    \n",
    "    \"\"\"\n",
    "    doc: Esta funcion realiza el calulo de eliminacion de valores atipicos o outliers,\n",
    "         utilizando el metodo del IQR\n",
    "    \n",
    "    inputs:\n",
    "           - df: Dataset de entrada\n",
    "           - upper: desviacion estandard hacia arriba\n",
    "           - lower: desviacion estandard hacia abajo\n",
    "           - col: columna a calcular\n",
    "           \n",
    "    outputs:\n",
    "           - df_result: dataframe de la columna sin outliers\n",
    "    \n",
    "    \"\"\"\n",
    "    \n",
    "    try:\n",
    "        df = df[[col]]\n",
    "\n",
    "        Q3 = df[col].quantile(0.75)\n",
    "        Q1 = df[col].quantile(0.25)\n",
    "        IQR = Q3 - Q1\n",
    "\n",
    "        lower_limit = Q1 - lower*IQR\n",
    "        upper_limit = Q3 + upper*IQR\n",
    "\n",
    "        df_result = df[(df[col] >= lower_limit) & (df[col] <= upper_limit)]\n",
    "        \n",
    "        return df_result\n",
    "    \n",
    "    except KeyError as e:\n",
    "        \n",
    "        print(\"ingrese el nombre de la columna a calcular\")\n",
    "        \n",
    "        return []\n",
    "            "
   ]
  },
  {
   "cell_type": "code",
   "execution_count": 80,
   "id": "90d98d20",
   "metadata": {
    "ExecuteTime": {
     "end_time": "2022-11-22T12:19:07.943422Z",
     "start_time": "2022-11-22T12:19:07.931420Z"
    }
   },
   "outputs": [],
   "source": [
    "def apply_IQR(df = pd.DataFrame(), upper = 1.5, lower = 1.5, col = str):\n",
    "    \n",
    "    \"\"\"\n",
    "    doc: Esta funcion realiza el calulo de eliminacion de valores atipicos o outliers,\n",
    "         utilizando el metodo del IQR\n",
    "    \n",
    "    inputs:\n",
    "           - df: Dataset de entrada\n",
    "           - upper: desviacion estandard hacia arriba\n",
    "           - lower: desviacion estandard hacia abajo\n",
    "           - col: columna a calcular\n",
    "           \n",
    "    outputs:\n",
    "           - df_result: dataframe de la columna sin outliers\n",
    "    \n",
    "    \"\"\"\n",
    "    \n",
    "    df = df[[col]]\n",
    "\n",
    "    Q3 = df[col].quantile(0.75)\n",
    "    Q1 = df[col].quantile(0.25)\n",
    "    IQR = Q3 - Q1\n",
    "\n",
    "    lower_limit = Q1 - lower*IQR\n",
    "    upper_limit = Q3 + upper*IQR\n",
    "\n",
    "    df_result = df[(df[col] >= lower_limit) & (df[col] <= upper_limit)]\n",
    "\n",
    "    return df_result"
   ]
  },
  {
   "cell_type": "code",
   "execution_count": 81,
   "id": "ac639675",
   "metadata": {
    "ExecuteTime": {
     "end_time": "2022-11-22T12:19:10.136096Z",
     "start_time": "2022-11-22T12:19:10.125125Z"
    }
   },
   "outputs": [],
   "source": [
    "df_price = apply_IQR(df = df_house, upper = 1.3, lower = 1.3, col = \"price\")"
   ]
  },
  {
   "cell_type": "code",
   "execution_count": 77,
   "id": "99d2cbd0",
   "metadata": {
    "ExecuteTime": {
     "end_time": "2022-11-22T12:18:18.962496Z",
     "start_time": "2022-11-22T12:18:18.923995Z"
    },
    "scrolled": false
   },
   "outputs": [
    {
     "name": "stdout",
     "output_type": "stream",
     "text": [
      "ingrese el nombre de la columna a calcular\n",
      "Cantidad de filas originales: ----> 13320\n"
     ]
    },
    {
     "ename": "AttributeError",
     "evalue": "'list' object has no attribute 'shape'",
     "output_type": "error",
     "traceback": [
      "\u001b[1;31m---------------------------------------------------------------------------\u001b[0m",
      "\u001b[1;31mAttributeError\u001b[0m                            Traceback (most recent call last)",
      "Input \u001b[1;32mIn [77]\u001b[0m, in \u001b[0;36m<cell line: 4>\u001b[1;34m()\u001b[0m\n\u001b[0;32m      1\u001b[0m df_price \u001b[38;5;241m=\u001b[39m apply_IQR(df \u001b[38;5;241m=\u001b[39m df_house, upper \u001b[38;5;241m=\u001b[39m \u001b[38;5;241m1.3\u001b[39m, lower \u001b[38;5;241m=\u001b[39m \u001b[38;5;241m1.3\u001b[39m)\n\u001b[0;32m      3\u001b[0m \u001b[38;5;28mprint\u001b[39m(\u001b[38;5;124mf\u001b[39m\u001b[38;5;124m\"\u001b[39m\u001b[38;5;124mCantidad de filas originales: ----> \u001b[39m\u001b[38;5;132;01m{\u001b[39;00mdf_house\u001b[38;5;241m.\u001b[39mshape[\u001b[38;5;241m0\u001b[39m]\u001b[38;5;132;01m}\u001b[39;00m\u001b[38;5;124m\"\u001b[39m)\n\u001b[1;32m----> 4\u001b[0m \u001b[38;5;28mprint\u001b[39m(\u001b[38;5;124mf\u001b[39m\u001b[38;5;124m\"\u001b[39m\u001b[38;5;124mCantidad de filas resultantes: ---> \u001b[39m\u001b[38;5;132;01m{\u001b[39;00mdf_price\u001b[38;5;241m.\u001b[39mshape[\u001b[38;5;241m0\u001b[39m]\u001b[38;5;132;01m}\u001b[39;00m\u001b[38;5;124m\"\u001b[39m)\n\u001b[0;32m      5\u001b[0m \u001b[38;5;28mprint\u001b[39m(\u001b[38;5;124mf\u001b[39m\u001b[38;5;124m\"\u001b[39m\u001b[38;5;124mCantidad de filas eliminadas: ----> \u001b[39m\u001b[38;5;132;01m{\u001b[39;00mdf_house\u001b[38;5;241m.\u001b[39mshape[\u001b[38;5;241m0\u001b[39m] \u001b[38;5;241m-\u001b[39m df_price\u001b[38;5;241m.\u001b[39mshape[\u001b[38;5;241m0\u001b[39m]\u001b[38;5;132;01m}\u001b[39;00m\u001b[38;5;124m\"\u001b[39m)\n\u001b[0;32m      6\u001b[0m \u001b[38;5;28mprint\u001b[39m(\u001b[38;5;124m\"\u001b[39m\u001b[38;5;124mProcentaje de filas eliminadas: -->\u001b[39m\u001b[38;5;124m\"\u001b[39m ,((df_house\u001b[38;5;241m.\u001b[39mshape[\u001b[38;5;241m0\u001b[39m] \u001b[38;5;241m-\u001b[39m df_price\u001b[38;5;241m.\u001b[39mshape[\u001b[38;5;241m0\u001b[39m])\u001b[38;5;241m/\u001b[39mdf_house\u001b[38;5;241m.\u001b[39mshape[\u001b[38;5;241m0\u001b[39m])\u001b[38;5;241m*\u001b[39m\u001b[38;5;241m100\u001b[39m)\n",
      "\u001b[1;31mAttributeError\u001b[0m: 'list' object has no attribute 'shape'"
     ]
    }
   ],
   "source": [
    "\n",
    "\n",
    "print(f\"Cantidad de filas originales: ----> {df_house.shape[0]}\")\n",
    "print(f\"Cantidad de filas resultantes: ---> {df_price.shape[0]}\")\n",
    "print(f\"Cantidad de filas eliminadas: ----> {df_house.shape[0] - df_price.shape[0]}\")\n",
    "print(\"Procentaje de filas eliminadas: -->\" ,((df_house.shape[0] - df_price.shape[0])/df_house.shape[0])*100)\n",
    "\n",
    "print(\"Coeficiente de variacion: -------->\",(df_price[\"price\"].std()/abs(df_price[\"price\"].mean()))*100)\n",
    "sns.displot(df_price[\"price\"], bins = 80)"
   ]
  },
  {
   "cell_type": "code",
   "execution_count": 47,
   "id": "d6898d89",
   "metadata": {
    "ExecuteTime": {
     "end_time": "2022-11-22T11:47:22.660254Z",
     "start_time": "2022-11-22T11:47:22.638315Z"
    }
   },
   "outputs": [],
   "source": [
    "df_employee.dropna(subset = [\"annual_salary\"], inplace = True)"
   ]
  },
  {
   "cell_type": "code",
   "execution_count": 49,
   "id": "4a1a8b91",
   "metadata": {
    "ExecuteTime": {
     "end_time": "2022-11-22T11:48:10.732139Z",
     "start_time": "2022-11-22T11:48:10.476253Z"
    }
   },
   "outputs": [
    {
     "name": "stdout",
     "output_type": "stream",
     "text": [
      "27.04662533857688\n"
     ]
    },
    {
     "data": {
      "text/plain": [
       "<seaborn.axisgrid.FacetGrid at 0x1a5c62bd8e0>"
      ]
     },
     "execution_count": 49,
     "metadata": {},
     "output_type": "execute_result"
    },
    {
     "data": {
      "image/png": "[encoded data removed]",
      "text/plain": [
       "<Figure size 360x360 with 1 Axes>"
      ]
     },
     "metadata": {
      "needs_background": "light"
     },
     "output_type": "display_data"
    }
   ],
   "source": [
    "cv = (df_employee[\"annual_salary\"].std()/abs(df_employee[\"annual_salary\"].mean()))*100\n",
    "print(cv)\n",
    "\n",
    "sns.displot(df_employee[\"annual_salary\"], bins = 50)"
   ]
  },
  {
   "cell_type": "code",
   "execution_count": 52,
   "id": "cf4e4462",
   "metadata": {
    "ExecuteTime": {
     "end_time": "2022-11-22T11:49:17.442865Z",
     "start_time": "2022-11-22T11:49:17.141666Z"
    }
   },
   "outputs": [
    {
     "name": "stdout",
     "output_type": "stream",
     "text": [
      "27.04662533857688\n"
     ]
    },
    {
     "data": {
      "text/plain": [
       "<seaborn.axisgrid.FacetGrid at 0x1a5c61b8970>"
      ]
     },
     "execution_count": 52,
     "metadata": {},
     "output_type": "execute_result"
    },
    {
     "data": {
      "image/png": "[encoded data removed]",
      "text/plain": [
       "<Figure size 360x360 with 1 Axes>"
      ]
     },
     "metadata": {
      "needs_background": "light"
     },
     "output_type": "display_data"
    }
   ],
   "source": [
    "df_annual_salary = apply_IQR(df = df_employee, upper = 1.5, lower = 1.5, col = \"annual_salary\")\n",
    "\n",
    "print((df_annual_salary[\"annual_salary\"].std()/abs(df_annual_salary[\"annual_salary\"].mean()))*100)\n",
    "sns.displot(df_annual_salary[\"annual_salary\"], bins = 80)"
   ]
  },
  {
   "cell_type": "markdown",
   "id": "c267452a",
   "metadata": {},
   "source": [
    "# Manipular Fechas\n",
    "\n",
    "<br>\n",
    "<img src=\"fechas.png\" height = \"550\" width = \"550\">"
   ]
  },
  {
   "cell_type": "code",
   "execution_count": null,
   "id": "0b7e7a9e",
   "metadata": {},
   "outputs": [],
   "source": []
  },
  {
   "cell_type": "markdown",
   "id": "cc3d5f60",
   "metadata": {},
   "source": [
    "# Otro dataset"
   ]
  },
  {
   "cell_type": "code",
   "execution_count": null,
   "id": "927b28ba",
   "metadata": {},
   "outputs": [],
   "source": []
  },
  {
   "cell_type": "markdown",
   "id": "320da869",
   "metadata": {},
   "source": [
    "## Exploración del dataset"
   ]
  },
  {
   "cell_type": "code",
   "execution_count": null,
   "id": "85780ad9",
   "metadata": {},
   "outputs": [],
   "source": []
  },
  {
   "cell_type": "markdown",
   "id": "f9b0fd0f",
   "metadata": {},
   "source": [
    "## Visualización de variables categóricas"
   ]
  },
  {
   "cell_type": "markdown",
   "id": "1f70c7e9",
   "metadata": {},
   "source": [
    "### Box Plot"
   ]
  },
  {
   "cell_type": "code",
   "execution_count": null,
   "id": "55633334",
   "metadata": {},
   "outputs": [],
   "source": []
  },
  {
   "cell_type": "markdown",
   "id": "784be43a",
   "metadata": {},
   "source": [
    "# Seleccionar las variables\n",
    "\n",
    "A continuación vemos que las posibles variables categóricas son las que son de tipo \"object\". Las demás son numéricas."
   ]
  },
  {
   "cell_type": "code",
   "execution_count": null,
   "id": "ec785e3d",
   "metadata": {},
   "outputs": [],
   "source": []
  },
  {
   "cell_type": "markdown",
   "id": "49d03cd4",
   "metadata": {},
   "source": [
    "## Dataframe de solo variables categóricas"
   ]
  },
  {
   "cell_type": "code",
   "execution_count": null,
   "id": "5b3a6e2d",
   "metadata": {},
   "outputs": [],
   "source": []
  },
  {
   "cell_type": "markdown",
   "id": "6db85215",
   "metadata": {
    "ExecuteTime": {
     "end_time": "2021-07-28T03:29:50.678937Z",
     "start_time": "2021-07-28T03:29:50.676086Z"
    }
   },
   "source": [
    "# One-Hot-Encoding\n",
    "\n",
    "Si bien esta técnica resuelve el problema de tener pesos desiguales, sin embargo, esto no será muy útil cuando se tienen muchas categorías ya que esto agregaría demasiadas columnas y podríamos caer en la [maldición de la dimensionalidad (Curse of dimensionality)](https://en.wikipedia.org/wiki/Curse_of_dimensionality)\n",
    "\n",
    "\n",
    "<img src=\"dummy.jpg\" height = \"400\" width = \"400\">"
   ]
  },
  {
   "cell_type": "markdown",
   "id": "f7e13473",
   "metadata": {},
   "source": [
    "## Utilizando Pandas\n",
    "\n",
    "Utilizamos la función *get_dummies*"
   ]
  },
  {
   "cell_type": "code",
   "execution_count": null,
   "id": "c6030c29",
   "metadata": {},
   "outputs": [],
   "source": []
  }
 ],
 "metadata": {
  "hide_input": false,
  "kernelspec": {
   "display_name": "Python 3 (ipykernel)",
   "language": "python",
   "name": "python3"
  },
  "language_info": {
   "codemirror_mode": {
    "name": "ipython",
    "version": 3
   },
   "file_extension": ".py",
   "mimetype": "text/x-python",
   "name": "python",
   "nbconvert_exporter": "python",
   "pygments_lexer": "ipython3",
   "version": "3.9.12"
  },
  "nbTranslate": {
   "displayLangs": [
    "*"
   ],
   "hotkey": "alt-t",
   "langInMainMenu": true,
   "sourceLang": "en",
   "targetLang": "fr",
   "useGoogleTranslate": true
  },
  "toc": {
   "base_numbering": 1,
   "nav_menu": {},
   "number_sections": true,
   "sideBar": true,
   "skip_h1_title": false,
   "title_cell": "Table of Contents",
   "title_sidebar": "Contents",
   "toc_cell": false,
   "toc_position": {
    "height": "calc(100% - 180px)",
    "left": "10px",
    "top": "150px",
    "width": "165px"
   },
   "toc_section_display": true,
   "toc_window_display": true
  },
  "varInspector": {
   "cols": {
    "lenName": 16,
    "lenType": 16,
    "lenVar": 40
   },
   "kernels_config": {
    "python": {
     "delete_cmd_postfix": "",
     "delete_cmd_prefix": "del ",
     "library": "var_list.py",
     "varRefreshCmd": "print(var_dic_list())"
    },
    "r": {
     "delete_cmd_postfix": ") ",
     "delete_cmd_prefix": "rm(",
     "library": "var_list.r",
     "varRefreshCmd": "cat(var_dic_list()) "
    }
   },
   "types_to_exclude": [
    "module",
    "function",
    "builtin_function_or_method",
    "instance",
    "_Feature"
   ],
   "window_display": false
  }
 },
 "nbformat": 4,
 "nbformat_minor": 5
}
