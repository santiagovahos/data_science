{
 "cells": [
  {
   "cell_type": "markdown",
   "metadata": {
    "ExecuteTime": {
     "end_time": "2022-02-12T16:18:02.956074Z",
     "start_time": "2022-02-12T16:18:02.946509Z"
    }
   },
   "source": [
    "<img src = \"estadistica.PNG\" height = \"600\" width = \"600\">"
   ]
  },
  {
   "cell_type": "markdown",
   "metadata": {},
   "source": [
    "# Introducción a la estadística básica"
   ]
  },
  {
   "cell_type": "markdown",
   "metadata": {},
   "source": [
    "## Definiciones básicas"
   ]
  },
  {
   "cell_type": "markdown",
   "metadata": {},
   "source": [
    "- **Población**: Total de elementos de un grupo a estudiar.\n",
    "- **Muestra**: Parte o segmento de una población.\n",
    "\n",
    "<img src = \"muestra.JPG\" height = \"500\" width = \"500\">"
   ]
  },
  {
   "cell_type": "markdown",
   "metadata": {},
   "source": [
    "- **Experimento**: Acción que genera eventos apartir de unos datos el cual puede ser repetido una cantida de veces n.\n",
    "- **Espacio muestral**: Todos los posibles resiltados de un experimento.\n",
    "\n",
    "\n",
    "  $$ S = \\lbrace{a,b,c, ... }\\rbrace $$\n",
    "  \n",
    "  **ejemplo:** se tiene un experimento donde se realiza un lanzamiento de un dado, ¿Qué cara se puede obtener al lanzar el dado?\n",
    "  \n",
    "  R//: el espacio muestral serán todos los posibles resulatdos al lanzar el dado, es decir: {1,2,3,4,5,6}"
   ]
  },
  {
   "cell_type": "markdown",
   "metadata": {},
   "source": [
    "  **Evento simple**: es un subconjunto del espacio muestral, si consideramos el espacio muestral anterior, un evento simple de ese espacio muestral sería solo tomar cuando la cara del dado de como resultado 1 o 4:\n",
    "\n",
    "  $$ A = \\lbrace{1,4}\\rbrace $$"
   ]
  },
  {
   "cell_type": "markdown",
   "metadata": {},
   "source": [
    "**Evento compuesto**: Es aquel que se compone de dos o mas eventos simples, donde podrían tener relación o no.\n",
    "\n",
    "- **Unión**: conjunto formado por lo elementos de dos o mas conjuntos sin repetirlos.\n",
    "\n",
    "\n",
    " $$ P = \\lbrace{2, 3, 5, 6}\\rbrace $$\n",
    " \n",
    " $$ Q = \\lbrace{3, 7, 4}\\rbrace $$\n",
    " \n",
    " $$ P \\cup Q = \\lbrace{2, 3, 4, 5, 6, 7}\\rbrace $$\n",
    " \n",
    " <img src = \"union.JPG\">\n",
    "\n",
    "- **Intersección**: Conjunto formado por los elementos comunes de dos o mas conjuntos.\n",
    "\n",
    "\n",
    " $$ M = \\lbrace{a, b, c}\\rbrace $$\n",
    " \n",
    " $$ N = \\lbrace{a, c, e, d}\\rbrace $$\n",
    " \n",
    " $$ M \\cap N = \\lbrace{a, c}\\rbrace $$\n",
    " \n",
    " <img src = \"interseccion.JPG\">"
   ]
  },
  {
   "cell_type": "markdown",
   "metadata": {},
   "source": [
    "## Probabilidad"
   ]
  },
  {
   "cell_type": "markdown",
   "metadata": {},
   "source": [
    "La probabilidad introduce los campos matemáticos que nos permiten cuantificar la incertidumbre y hacer predicciones a pesar de de dicha incertidumbre o \"del que pasará\". Estos campos son esenciales porque los algoritmos de aprendizaje automático se entrenan con datos imperfectos y se implementan en escenarios ruidosos del mundo real que no se habían encontrado antes, por lo tanto siempre existirá una probabilidad de equivocarnos o no, pero antes de ellos, debemos conocer como funciona la probabilidad y que es este concepto aplicado en cualquier modelo de machine learning.\n"
   ]
  },
  {
   "cell_type": "markdown",
   "metadata": {},
   "source": [
    "# Medidas de tendencia central"
   ]
  },
  {
   "cell_type": "markdown",
   "metadata": {},
   "source": [
    "<br>\n",
    "<img src = \"mean.JPG\" height = \"500\" width = \"500\">\n",
    "<br>\n",
    "<br>\n",
    "\n",
    "Un conjunto de datos, ya sean cualitativos o cuantitativos, contiene todo tipo de información interesante según se analice. Por ejemplo podemos tener información sobre un número determinado de clientes y con esta información determinar patrones o características para mejorar y optimizar nuestros esfuerzos en ventas y programas de fidelidad.   \n",
    "\n",
    "Analizar una gran cantidad de datos para determinar modelos, inferir información o predecir comportamientos en una actividad que se ejecuta en todas las áreas de la ciencia y que se menciona cuando se llega a hacer divulgación. Sin embargo, se presenta un problema al hablar del conjunto de datos en donde son muchas **muestras** para distintas **características**. En el caso de los clientes, podemos tener información de la edad, de las compras usuales y otros datos personales o comerciales para un número de 20, 30, 1000 personas. A esto se conoce como dimensión de los datos.\n",
    "\n",
    "Las medidas de tendencia central proporcionan una estadística resumida en el centro de una distribución dada, también conocido como el valor \"promedio\" de la distribución."
   ]
  },
  {
   "cell_type": "markdown",
   "metadata": {
    "ExecuteTime": {
     "end_time": "2021-08-21T05:54:09.382643Z",
     "start_time": "2021-08-21T05:54:09.366650Z"
    }
   },
   "source": [
    "## Media aritmética o Promedio"
   ]
  },
  {
   "cell_type": "markdown",
   "metadata": {},
   "source": [
    "Es la más común de las medidas de tendencia central. La media aritmética de un conjunto de datos numéricos se obtiene sumando los datos y dividiendo entre el número total de datos.\n",
    "\n",
    "$$ {\\displaystyle {\\bar {x}}={\\frac {1}{n}}\\sum _{i=1}^{n}x_{i}={\\frac {x_{1}+x_{2}+\\cdots +x_{n}}{n}}} $$"
   ]
  },
  {
   "cell_type": "markdown",
   "metadata": {},
   "source": [
    "**Ventajas**:\n",
    "\n",
    "* Fácil cálculo.\n",
    "* Es única para cada conjunto de datos.\n",
    "* Se interpreta como un punto de equilibrio o centro de masas. \n",
    "* Es útil para llevar a cabo procedimientos estadísticos como la comparación de medias de varios conjuntos de datos.\n",
    "* Toma en cuenta todos y cada uno de los elementos de los datos."
   ]
  },
  {
   "cell_type": "markdown",
   "metadata": {},
   "source": [
    "**Desventajas**\n",
    "\n",
    "* Es una medida a cuyo significado depende la dispersión, de modo que cuanto menos homogéneos sean los datos, menos información proporciona.\n",
    "* En el análisis real de la media no todos los valores contribuyen de la misma manera. Los valores altos tienen más peso que los valores cercanos a cero."
   ]
  },
  {
   "cell_type": "code",
   "execution_count": 2,
   "metadata": {
    "ExecuteTime": {
     "end_time": "2022-10-26T11:19:24.719833Z",
     "start_time": "2022-10-26T11:19:22.820927Z"
    }
   },
   "outputs": [],
   "source": [
    "import numpy as np\n",
    "import pandas as pd"
   ]
  },
  {
   "cell_type": "code",
   "execution_count": 7,
   "metadata": {
    "ExecuteTime": {
     "end_time": "2022-10-25T13:07:29.093495Z",
     "start_time": "2022-10-25T13:07:29.077508Z"
    }
   },
   "outputs": [
    {
     "data": {
      "text/plain": [
       "50.5"
      ]
     },
     "execution_count": 7,
     "metadata": {},
     "output_type": "execute_result"
    }
   ],
   "source": [
    "datos = np.arange(1, 101)\n",
    "media = datos.sum()/len(datos)\n",
    "media"
   ]
  },
  {
   "cell_type": "code",
   "execution_count": 11,
   "metadata": {
    "ExecuteTime": {
     "end_time": "2022-10-25T13:09:34.457769Z",
     "start_time": "2022-10-25T13:09:34.441815Z"
    }
   },
   "outputs": [
    {
     "data": {
      "text/plain": [
       "50.5"
      ]
     },
     "execution_count": 11,
     "metadata": {},
     "output_type": "execute_result"
    }
   ],
   "source": [
    "datos.mean()"
   ]
  },
  {
   "cell_type": "code",
   "execution_count": 3,
   "metadata": {
    "ExecuteTime": {
     "end_time": "2022-10-26T11:19:31.143203Z",
     "start_time": "2022-10-26T11:19:31.029616Z"
    }
   },
   "outputs": [
    {
     "data": {
      "text/html": [
       "<div>\n",
       "<style scoped>\n",
       "    .dataframe tbody tr th:only-of-type {\n",
       "        vertical-align: middle;\n",
       "    }\n",
       "\n",
       "    .dataframe tbody tr th {\n",
       "        vertical-align: top;\n",
       "    }\n",
       "\n",
       "    .dataframe thead th {\n",
       "        text-align: right;\n",
       "    }\n",
       "</style>\n",
       "<table border=\"1\" class=\"dataframe\">\n",
       "  <thead>\n",
       "    <tr style=\"text-align: right;\">\n",
       "      <th></th>\n",
       "      <th>area_type</th>\n",
       "      <th>availability</th>\n",
       "      <th>location</th>\n",
       "      <th>size</th>\n",
       "      <th>society</th>\n",
       "      <th>total_sqft</th>\n",
       "      <th>bath</th>\n",
       "      <th>balcony</th>\n",
       "      <th>price</th>\n",
       "    </tr>\n",
       "  </thead>\n",
       "  <tbody>\n",
       "    <tr>\n",
       "      <th>0</th>\n",
       "      <td>Super built-up  Area</td>\n",
       "      <td>19-Dec</td>\n",
       "      <td>Electronic City Phase II</td>\n",
       "      <td>2 BHK</td>\n",
       "      <td>Coomee</td>\n",
       "      <td>1056</td>\n",
       "      <td>2.0</td>\n",
       "      <td>1.0</td>\n",
       "      <td>39.07</td>\n",
       "    </tr>\n",
       "    <tr>\n",
       "      <th>1</th>\n",
       "      <td>Plot  Area</td>\n",
       "      <td>Ready To Move</td>\n",
       "      <td>Chikka Tirupathi</td>\n",
       "      <td>4 Bedroom</td>\n",
       "      <td>Theanmp</td>\n",
       "      <td>2600</td>\n",
       "      <td>5.0</td>\n",
       "      <td>3.0</td>\n",
       "      <td>120.00</td>\n",
       "    </tr>\n",
       "    <tr>\n",
       "      <th>2</th>\n",
       "      <td>Built-up  Area</td>\n",
       "      <td>Ready To Move</td>\n",
       "      <td>Uttarahalli</td>\n",
       "      <td>3 BHK</td>\n",
       "      <td>NaN</td>\n",
       "      <td>1440</td>\n",
       "      <td>2.0</td>\n",
       "      <td>3.0</td>\n",
       "      <td>62.00</td>\n",
       "    </tr>\n",
       "    <tr>\n",
       "      <th>3</th>\n",
       "      <td>Super built-up  Area</td>\n",
       "      <td>Ready To Move</td>\n",
       "      <td>Lingadheeranahalli</td>\n",
       "      <td>3 BHK</td>\n",
       "      <td>Soiewre</td>\n",
       "      <td>1521</td>\n",
       "      <td>3.0</td>\n",
       "      <td>1.0</td>\n",
       "      <td>95.00</td>\n",
       "    </tr>\n",
       "  </tbody>\n",
       "</table>\n",
       "</div>"
      ],
      "text/plain": [
       "              area_type   availability                  location       size  \\\n",
       "0  Super built-up  Area         19-Dec  Electronic City Phase II      2 BHK   \n",
       "1            Plot  Area  Ready To Move          Chikka Tirupathi  4 Bedroom   \n",
       "2        Built-up  Area  Ready To Move               Uttarahalli      3 BHK   \n",
       "3  Super built-up  Area  Ready To Move        Lingadheeranahalli      3 BHK   \n",
       "\n",
       "   society total_sqft  bath  balcony   price  \n",
       "0  Coomee        1056   2.0      1.0   39.07  \n",
       "1  Theanmp       2600   5.0      3.0  120.00  \n",
       "2      NaN       1440   2.0      3.0   62.00  \n",
       "3  Soiewre       1521   3.0      1.0   95.00  "
      ]
     },
     "execution_count": 3,
     "metadata": {},
     "output_type": "execute_result"
    }
   ],
   "source": [
    "df_house = pd.read_csv(\"./datasets/Bengaluru_House_Data.csv\")\n",
    "df_house.head(4)"
   ]
  },
  {
   "cell_type": "code",
   "execution_count": 14,
   "metadata": {
    "ExecuteTime": {
     "end_time": "2022-10-25T13:12:44.726184Z",
     "start_time": "2022-10-25T13:12:44.698056Z"
    }
   },
   "outputs": [
    {
     "data": {
      "text/plain": [
       "112.56562650150138"
      ]
     },
     "execution_count": 14,
     "metadata": {},
     "output_type": "execute_result"
    }
   ],
   "source": [
    "df_house[\"price\"].mean()"
   ]
  },
  {
   "cell_type": "markdown",
   "metadata": {},
   "source": [
    "**Ejemplo**: ya teniendo claro el concepto de media aritmética, cree una distribución normal de media 6, de ser posible tambien realice la grafica de la distribución\n",
    "\n",
    "- tip: para ello utilice el método de numpy np.random.normal() y un histograma"
   ]
  },
  {
   "cell_type": "code",
   "execution_count": 23,
   "metadata": {
    "ExecuteTime": {
     "end_time": "2022-10-25T13:19:11.225075Z",
     "start_time": "2022-10-25T13:19:11.210118Z"
    }
   },
   "outputs": [],
   "source": [
    "media = 0\n",
    "st = 1\n",
    "s = np.random.normal(media, st, 1000)\n",
    "\n",
    "import seaborn as sns"
   ]
  },
  {
   "cell_type": "code",
   "execution_count": 26,
   "metadata": {
    "ExecuteTime": {
     "end_time": "2022-10-25T13:19:49.090749Z",
     "start_time": "2022-10-25T13:19:48.923439Z"
    }
   },
   "outputs": [
    {
     "data": {
      "image/png": "[encoded data removed]",
      "text/plain": [
       "<Figure size 432x288 with 1 Axes>"
      ]
     },
     "metadata": {
      "needs_background": "light"
     },
     "output_type": "display_data"
    }
   ],
   "source": [
    "sns.histplot(s);"
   ]
  },
  {
   "cell_type": "code",
   "execution_count": 27,
   "metadata": {
    "ExecuteTime": {
     "end_time": "2022-10-25T13:20:42.236631Z",
     "start_time": "2022-10-25T13:20:41.915123Z"
    }
   },
   "outputs": [
    {
     "name": "stderr",
     "output_type": "stream",
     "text": [
      "C:\\Users\\usuario1\\anaconda3\\lib\\site-packages\\seaborn\\distributions.py:2619: FutureWarning: `distplot` is a deprecated function and will be removed in a future version. Please adapt your code to use either `displot` (a figure-level function with similar flexibility) or `histplot` (an axes-level function for histograms).\n",
      "  warnings.warn(msg, FutureWarning)\n"
     ]
    },
    {
     "data": {
      "image/png": "[encoded data removed]",
      "text/plain": [
       "<Figure size 432x288 with 1 Axes>"
      ]
     },
     "metadata": {
      "needs_background": "light"
     },
     "output_type": "display_data"
    }
   ],
   "source": [
    "sns.distplot(df_house[\"price\"]);"
   ]
  },
  {
   "cell_type": "code",
   "execution_count": 6,
   "metadata": {
    "ExecuteTime": {
     "end_time": "2022-10-26T11:20:37.049189Z",
     "start_time": "2022-10-26T11:20:36.015661Z"
    }
   },
   "outputs": [],
   "source": [
    "import matplotlib.pyplot as plt"
   ]
  },
  {
   "cell_type": "code",
   "execution_count": 40,
   "metadata": {
    "ExecuteTime": {
     "end_time": "2022-10-25T13:33:50.600757Z",
     "start_time": "2022-10-25T13:33:50.394170Z"
    }
   },
   "outputs": [
    {
     "name": "stdout",
     "output_type": "stream",
     "text": [
      "112.56562650150138\n"
     ]
    },
    {
     "data": {
      "image/png": "[encoded data removed]",
      "text/plain": [
       "<Figure size 360x360 with 1 Axes>"
      ]
     },
     "metadata": {
      "needs_background": "light"
     },
     "output_type": "display_data"
    }
   ],
   "source": [
    "media = df_house[\"price\"].mean()\n",
    "datos = df_house[\"price\"]\n",
    "plt.figure(figsize = (5,5))\n",
    "plt.hist(datos, bins = 50);\n",
    "plt.axvline(x = media, color = \"red\")\n",
    "print(media)"
   ]
  },
  {
   "cell_type": "code",
   "execution_count": 42,
   "metadata": {
    "ExecuteTime": {
     "end_time": "2022-10-25T13:34:09.492362Z",
     "start_time": "2022-10-25T13:34:09.304943Z"
    }
   },
   "outputs": [
    {
     "name": "stdout",
     "output_type": "stream",
     "text": [
      "98.26490136860609\n"
     ]
    },
    {
     "data": {
      "image/png": "[encoded data removed]",
      "text/plain": [
       "<Figure size 360x360 with 1 Axes>"
      ]
     },
     "metadata": {
      "needs_background": "light"
     },
     "output_type": "display_data"
    }
   ],
   "source": [
    "datos_filtrados = df_house[df_house[\"price\"] <= 500]\n",
    "\n",
    "media = datos_filtrados[\"price\"].mean()\n",
    "datos = datos_filtrados[\"price\"]\n",
    "plt.figure(figsize = (5,5))\n",
    "plt.hist(datos, bins = 50);\n",
    "plt.axvline(x = media, color = \"red\")\n",
    "print(media)"
   ]
  },
  {
   "cell_type": "markdown",
   "metadata": {},
   "source": [
    "## Mediana"
   ]
  },
  {
   "cell_type": "markdown",
   "metadata": {},
   "source": [
    "La mediana es un punto que divide la muestra ordenada (de menor a mayor) en dos grupos iguales (50% - 50%). Es un punto que está justo en mitad de la muestra, y no tiene por qué coincidir con la media.\n",
    "\n",
    "**Para cantidad de datos impares**:\n",
    "\n",
    "- Supongamos que tenemos el grupo de datos no agrupados $x_{1},x_{2},x_{3},\\ldots ,x_{n}$, los cuales están organizados de mayor a menor y $n$ es impar. La mediana sería:\n",
    "\n",
    "$$M_{e}=x_{{(n+1)/2}}$$\n",
    "\n",
    "**Para cantidad de datos pares**:\n",
    "\n",
    "- Si $n$ es par, la mediana sería:\n",
    "$$M_{e}=(x_{{{\\frac  {n}{2}}}}+x_{{{{\\frac  {n}{2}}}+1}})/2$$"
   ]
  },
  {
   "cell_type": "code",
   "execution_count": 9,
   "metadata": {
    "ExecuteTime": {
     "end_time": "2022-10-26T11:22:13.662847Z",
     "start_time": "2022-10-26T11:22:13.651535Z"
    }
   },
   "outputs": [
    {
     "data": {
      "text/plain": [
       "112.56562650150138"
      ]
     },
     "execution_count": 9,
     "metadata": {},
     "output_type": "execute_result"
    }
   ],
   "source": [
    "mean = df_house[\"price\"].mean()\n",
    "mean"
   ]
  },
  {
   "cell_type": "code",
   "execution_count": 10,
   "metadata": {
    "ExecuteTime": {
     "end_time": "2022-10-26T11:22:16.672941Z",
     "start_time": "2022-10-26T11:22:16.650774Z"
    }
   },
   "outputs": [
    {
     "data": {
      "text/plain": [
       "72.0"
      ]
     },
     "execution_count": 10,
     "metadata": {},
     "output_type": "execute_result"
    }
   ],
   "source": [
    "median = df_house[\"price\"].median()\n",
    "median"
   ]
  },
  {
   "cell_type": "code",
   "execution_count": 12,
   "metadata": {
    "ExecuteTime": {
     "end_time": "2022-10-26T11:22:38.612762Z",
     "start_time": "2022-10-26T11:22:38.162442Z"
    }
   },
   "outputs": [
    {
     "data": {
      "text/plain": [
       "<matplotlib.lines.Line2D at 0x1de110cf7c0>"
      ]
     },
     "execution_count": 12,
     "metadata": {},
     "output_type": "execute_result"
    },
    {
     "data": {
      "image/png": "[encoded data removed]",
      "text/plain": [
       "<Figure size 360x360 with 1 Axes>"
      ]
     },
     "metadata": {
      "needs_background": "light"
     },
     "output_type": "display_data"
    }
   ],
   "source": [
    "plt.figure(figsize = (5, 5))\n",
    "plt.hist(df_house[\"price\"], bins = 50)\n",
    "plt.axvline(median, color = \"red\")"
   ]
  },
  {
   "cell_type": "code",
   "execution_count": 21,
   "metadata": {
    "ExecuteTime": {
     "end_time": "2022-10-26T11:26:44.484377Z",
     "start_time": "2022-10-26T11:26:43.721649Z"
    }
   },
   "outputs": [
    {
     "data": {
      "text/plain": [
       "<matplotlib.lines.Line2D at 0x1de11829af0>"
      ]
     },
     "execution_count": 21,
     "metadata": {},
     "output_type": "execute_result"
    },
    {
     "data": {
      "image/png": "[encoded data removed]",
      "text/plain": [
       "<Figure size 432x288 with 2 Axes>"
      ]
     },
     "metadata": {
      "needs_background": "light"
     },
     "output_type": "display_data"
    }
   ],
   "source": [
    "datos_filtrados = df_house[df_house[\"price\"] <= 500]\n",
    "media = datos_filtrados[\"price\"].mean()\n",
    "median_fil = datos_filtrados[\"price\"].median()\n",
    "\n",
    "fig, ax = plt.subplots(1, 2)\n",
    "ax[0].hist(datos_filtrados[\"price\"], bins = 50)\n",
    "ax[0].axvline(median_fil, color = \"red\")\n",
    "\n",
    "ax[1].hist(datos_filtrados[\"price\"], bins = 50)\n",
    "ax[1].axvline(media, color = \"red\")"
   ]
  },
  {
   "cell_type": "markdown",
   "metadata": {},
   "source": [
    "**Ejercicio**: grafique una cantidad de puntos n y halle la mediana en la grafica"
   ]
  },
  {
   "cell_type": "code",
   "execution_count": 23,
   "metadata": {
    "ExecuteTime": {
     "end_time": "2022-10-26T11:29:43.362334Z",
     "start_time": "2022-10-26T11:29:43.100221Z"
    }
   },
   "outputs": [
    {
     "data": {
      "text/plain": [
       "Text(8, 13.736206723263393, 'Mediana')"
      ]
     },
     "execution_count": 23,
     "metadata": {},
     "output_type": "execute_result"
    },
    {
     "data": {
      "image/png": "[encoded data removed]",
      "text/plain": [
       "<Figure size 720x360 with 1 Axes>"
      ]
     },
     "metadata": {
      "needs_background": "light"
     },
     "output_type": "display_data"
    }
   ],
   "source": [
    "cantidad = 15\n",
    "min_number = 5\n",
    "max_number = 20\n",
    "\n",
    "datos = np.random.uniform(min_number, max_number, size = cantidad)\n",
    "datos.sort()\n",
    "\n",
    "pmedio = 0.5*(cantidad//2) + 0.5*(cantidad//2+1) if cantidad%2 == 0 else cantidad//2+1\n",
    "median = 0.5*datos[cantidad//2-1] + 0.5*datos[cantidad//2] if cantidad%2 == 0 else datos[cantidad//2+1]\n",
    "\n",
    "fig, ax = plt.subplots(figsize = (10, 5))\n",
    "ax.plot(range(1, cantidad + 1), datos, \"o\", ms = 10)\n",
    "ax.plot(pmedio, median, \"or\", markerfacecolor = \"w\", ms = 5)\n",
    "\n",
    "ax.annotate(\"Mediana\", \n",
    "            xy = (pmedio, median), \n",
    "            xytext = (pmedio, 0.8*median), \n",
    "            arrowprops = dict(arrowstyle = \"-|>\", \n",
    "                              connectionstyle = \"arc3\", \n",
    "                              facecolor = \"black\"))"
   ]
  },
  {
   "cell_type": "markdown",
   "metadata": {},
   "source": [
    "## Moda"
   ]
  },
  {
   "cell_type": "markdown",
   "metadata": {},
   "source": [
    "La moda es la última medida común de tendencia central. Es simplemente el valor en la distribución que ocurre con mayor frecuencia.\n",
    "\n",
    "**Ventajas**:\n",
    "\n",
    "* Cálculo sencillo.\n",
    "* Interpretación muy clara.\n",
    "* Al depender sólo de las frecuencias, puede calcularse para variables cualitativas\n",
    "\n",
    "**Desventajas**\n",
    "\n",
    "* Su valor es independiente de la mayor parte de los datos, lo que la hace muy sensible a variaciones muestrales.\n",
    "* Usa muy pocas observaciones, de tal modo que grandes variaciones en los datos fuera de la moda, no afectan en modo alguno a su valor.\n",
    "* Puede haber más de una moda."
   ]
  },
  {
   "cell_type": "code",
   "execution_count": 24,
   "metadata": {
    "ExecuteTime": {
     "end_time": "2022-10-26T11:34:24.065429Z",
     "start_time": "2022-10-26T11:34:23.098904Z"
    }
   },
   "outputs": [],
   "source": [
    "import scipy.stats as st"
   ]
  },
  {
   "cell_type": "code",
   "execution_count": 32,
   "metadata": {
    "ExecuteTime": {
     "end_time": "2022-10-26T11:38:08.885027Z",
     "start_time": "2022-10-26T11:38:08.875054Z"
    }
   },
   "outputs": [
    {
     "data": {
      "text/plain": [
       "75.0"
      ]
     },
     "execution_count": 32,
     "metadata": {},
     "output_type": "execute_result"
    }
   ],
   "source": [
    "moda = st.mode(df_house[\"price\"])[0][0]\n",
    "moda"
   ]
  },
  {
   "cell_type": "code",
   "execution_count": 40,
   "metadata": {
    "ExecuteTime": {
     "end_time": "2022-10-26T11:43:24.226821Z",
     "start_time": "2022-10-26T11:43:24.209903Z"
    }
   },
   "outputs": [
    {
     "data": {
      "text/plain": [
       "75.0"
      ]
     },
     "execution_count": 40,
     "metadata": {},
     "output_type": "execute_result"
    }
   ],
   "source": [
    "moda_pandas = pd.DataFrame(df_house[\"price\"].value_counts()).reset_index()[\"index\"][0]\n",
    "moda_pandas"
   ]
  },
  {
   "cell_type": "code",
   "execution_count": 30,
   "metadata": {
    "ExecuteTime": {
     "end_time": "2022-10-26T11:37:16.362734Z",
     "start_time": "2022-10-26T11:37:15.893991Z"
    }
   },
   "outputs": [
    {
     "data": {
      "text/plain": [
       "<matplotlib.lines.Line2D at 0x1de13cb69d0>"
      ]
     },
     "execution_count": 30,
     "metadata": {},
     "output_type": "execute_result"
    },
    {
     "data": {
      "image/png": "[encoded data removed]",
      "text/plain": [
       "<Figure size 432x288 with 3 Axes>"
      ]
     },
     "metadata": {
      "needs_background": "light"
     },
     "output_type": "display_data"
    }
   ],
   "source": [
    "datos_filtrados = df_house[df_house[\"price\"] <= 500]\n",
    "media = datos_filtrados[\"price\"].mean()\n",
    "median_fil = datos_filtrados[\"price\"].median()\n",
    "moda = st.mode(datos_filtrados[\"price\"])[0][0]\n",
    "\n",
    "fig, ax = plt.subplots(1, 3)\n",
    "ax[0].hist(datos_filtrados[\"price\"], bins = 50)\n",
    "ax[0].axvline(median_fil, color = \"red\")\n",
    "\n",
    "ax[1].hist(datos_filtrados[\"price\"], bins = 50)\n",
    "ax[1].axvline(media, color = \"red\")\n",
    "\n",
    "ax[2].hist(datos_filtrados[\"price\"], bins = 50)\n",
    "ax[2].axvline(moda, color = \"red\")"
   ]
  },
  {
   "cell_type": "markdown",
   "metadata": {},
   "source": [
    "**NOTA:**\n",
    "\n",
    "Con tamaños de muestra pequeños, la media suele proporcionar la medida más precisa de tendencia central.\n",
    "\n",
    "Con tamaños de muestra más grandes, la media, la mediana, siempre que la distribución no esté sesgada:"
   ]
  },
  {
   "cell_type": "markdown",
   "metadata": {},
   "source": [
    "# Cuantiles"
   ]
  },
  {
   "cell_type": "markdown",
   "metadata": {},
   "source": [
    "Técnica estadística para separar los datos de una distribución. Eso sí, debe cumplirse que los grupos sean iguales. Por eso, existen diversos tipos de cuantil, como veremos más adelante, en función del número de particiones que hacen.\n",
    "\n",
    "La mediana, que divide una distribución en dos en su punto medio, es el ejemplo más conocido de cuantil.\n",
    "\n",
    "En términos generales, los cuantiles dividen distribuciones y los más comunes son:\n",
    "\n",
    "* Percentiles\n",
    "* Cuartiles\n",
    "* Deciles"
   ]
  },
  {
   "cell_type": "markdown",
   "metadata": {},
   "source": [
    "## Percentiles"
   ]
  },
  {
   "cell_type": "markdown",
   "metadata": {},
   "source": [
    "El percentil es una medida de posición usada en estadística que indica, una vez ordenados los datos de menor a mayor, el valor de la variable por debajo del cual se encuentra un porcentaje dado de observaciones en un grupo. Por ejemplo, el percentil 20.º es el valor bajo el cual se encuentran el 20 por ciento de las observaciones. Él y el 80% restante son mayores."
   ]
  },
  {
   "cell_type": "markdown",
   "metadata": {},
   "source": [
    "Tenga en cuenta que el método de cuantiles de Numpy () es idéntico al método de percentiles () "
   ]
  },
  {
   "cell_type": "code",
   "execution_count": 43,
   "metadata": {
    "ExecuteTime": {
     "end_time": "2022-10-26T11:48:00.619690Z",
     "start_time": "2022-10-26T11:48:00.609714Z"
    }
   },
   "outputs": [
    {
     "data": {
      "text/plain": [
       "8.0"
      ]
     },
     "execution_count": 43,
     "metadata": {},
     "output_type": "execute_result"
    }
   ],
   "source": [
    "np.percentile(df_house[\"price\"], 0)"
   ]
  },
  {
   "cell_type": "code",
   "execution_count": 45,
   "metadata": {
    "ExecuteTime": {
     "end_time": "2022-10-26T11:48:38.735842Z",
     "start_time": "2022-10-26T11:48:38.689670Z"
    }
   },
   "outputs": [
    {
     "name": "stdout",
     "output_type": "stream",
     "text": [
      "[8.0, 18.5, 24.8676, 27.0, 29.5, 31.5, 33.0, 34.6533, 35.0, 36.5, 38.0, 39.0, 40.0, 40.0, 41.0, 42.0, 43.0, 44.0, 45.0, 45.0, 46.0, 46.399899999999995, 47.25, 48.0, 49.0, 50.0, 50.0, 51.0, 52.0, 53.0, 54.0, 55.0, 55.0, 56.0, 56.4284, 57.56499999999996, 58.0, 59.6, 60.0, 60.0, 62.0, 63.0, 64.5, 65.0, 65.0, 66.0, 68.0, 68.75, 70.0, 70.0, 72.0, 73.0, 75.0, 75.0, 75.513, 77.77000000000015, 79.0, 80.0, 81.0, 84.0, 85.0, 86.0, 88.0, 90.0, 90.0, 94.30800000000004, 95.0, 97.8, 100.0, 100.0, 105.0, 108.0, 110.0, 115.0, 117.0, 120.0, 125.0, 125.0, 130.0, 135.0, 140.0, 145.0, 150.0, 150.0, 160.0, 166.0, 175.0, 183.53000000000065, 197.71999999999935, 203.0, 220.0, 235.0, 250.0, 265.0, 295.0, 324.0, 350.0, 400.0, 493.85999999999694, 658.0999999999949]\n"
     ]
    }
   ],
   "source": [
    "np.percentile(df_house[\"price\"], 50)\n",
    "\n",
    "lista = []\n",
    "for i in range(0, 100):\n",
    "    \n",
    "    lista.append(np.percentile(df_house[\"price\"], i))\n",
    "    \n",
    "print(lista)"
   ]
  },
  {
   "cell_type": "markdown",
   "metadata": {},
   "source": [
    "## Cuartiles"
   ]
  },
  {
   "cell_type": "markdown",
   "metadata": {},
   "source": [
    "Como su nombre indica, son cuantiles que dividen una distribución en cuartos, dividiendo la distribución en el percentil 25, la mediana (también conocido como el percentil 50) y el percentil 75."
   ]
  },
  {
   "cell_type": "code",
   "execution_count": 58,
   "metadata": {
    "ExecuteTime": {
     "end_time": "2022-10-26T12:00:53.528749Z",
     "start_time": "2022-10-26T12:00:53.518804Z"
    }
   },
   "outputs": [
    {
     "name": "stdout",
     "output_type": "stream",
     "text": [
      "Cuartiles = [50.0, 72.0, 120.0, 3600.0]\n"
     ]
    }
   ],
   "source": [
    "Q1 = np.percentile(df_house[\"price\"], 25)\n",
    "Q2 = np.percentile(df_house[\"price\"], 50)\n",
    "Q3 = np.percentile(df_house[\"price\"], 75)\n",
    "\n",
    "print(f\"Cuartiles = [{Q1}, {Q2}, {Q3}]\")"
   ]
  },
  {
   "cell_type": "code",
   "execution_count": 62,
   "metadata": {
    "ExecuteTime": {
     "end_time": "2022-10-26T12:01:59.883375Z",
     "start_time": "2022-10-26T12:01:59.593184Z"
    }
   },
   "outputs": [
    {
     "data": {
      "text/plain": [
       "<matplotlib.legend.Legend at 0x1de1b47b610>"
      ]
     },
     "execution_count": 62,
     "metadata": {},
     "output_type": "execute_result"
    },
    {
     "data": {
      "image/png": "[encoded data removed]",
      "text/plain": [
       "<Figure size 432x432 with 1 Axes>"
      ]
     },
     "metadata": {
      "needs_background": "light"
     },
     "output_type": "display_data"
    }
   ],
   "source": [
    "datos = df_house[df_house[\"price\"] <= 200]\n",
    "\n",
    "plt.figure(figsize = (6, 6))\n",
    "plt.hist(datos[\"price\"], bins = 50, color = \"lightblue\")\n",
    "plt.axvline(Q1, color = \"r\")\n",
    "plt.axvline(Q2, color = \"g\")\n",
    "plt.axvline(Q3, color = \"y\")\n",
    "plt.legend([\"Q1\", \"Q2\", \"Q3\"])"
   ]
  },
  {
   "cell_type": "markdown",
   "metadata": {},
   "source": [
    "## Deciles"
   ]
  },
  {
   "cell_type": "markdown",
   "metadata": {},
   "source": [
    "Dividen una distribución en diez segmentos de tamaño uniforme:"
   ]
  },
  {
   "cell_type": "code",
   "execution_count": 52,
   "metadata": {
    "ExecuteTime": {
     "end_time": "2022-10-26T11:58:14.487584Z",
     "start_time": "2022-10-26T11:58:14.474901Z"
    }
   },
   "outputs": [
    {
     "name": "stdout",
     "output_type": "stream",
     "text": [
      "Cuartiles = [38.0, 46.0, 54.0, 62.0, 72.0]\n"
     ]
    }
   ],
   "source": [
    "D1 = np.percentile(df_house[\"price\"], 10)\n",
    "D2 = np.percentile(df_house[\"price\"], 20)\n",
    "D3 = np.percentile(df_house[\"price\"], 30)\n",
    "D4 = np.percentile(df_house[\"price\"], 40)\n",
    "D5 = np.percentile(df_house[\"price\"], 50)\n",
    "\n",
    "print(f\"Cuartiles = [{D1}, {D2}, {D3}, {D4}, {D5}]\")"
   ]
  },
  {
   "cell_type": "markdown",
   "metadata": {},
   "source": [
    "### Grafica"
   ]
  },
  {
   "cell_type": "code",
   "execution_count": 55,
   "metadata": {
    "ExecuteTime": {
     "end_time": "2022-10-26T11:59:05.615918Z",
     "start_time": "2022-10-26T11:59:05.584002Z"
    }
   },
   "outputs": [
    {
     "data": {
      "text/html": [
       "<div>\n",
       "<style scoped>\n",
       "    .dataframe tbody tr th:only-of-type {\n",
       "        vertical-align: middle;\n",
       "    }\n",
       "\n",
       "    .dataframe tbody tr th {\n",
       "        vertical-align: top;\n",
       "    }\n",
       "\n",
       "    .dataframe thead th {\n",
       "        text-align: right;\n",
       "    }\n",
       "</style>\n",
       "<table border=\"1\" class=\"dataframe\">\n",
       "  <thead>\n",
       "    <tr style=\"text-align: right;\">\n",
       "      <th></th>\n",
       "      <th>area_type</th>\n",
       "      <th>availability</th>\n",
       "      <th>location</th>\n",
       "      <th>size</th>\n",
       "      <th>society</th>\n",
       "      <th>total_sqft</th>\n",
       "      <th>bath</th>\n",
       "      <th>balcony</th>\n",
       "      <th>price</th>\n",
       "    </tr>\n",
       "  </thead>\n",
       "  <tbody>\n",
       "    <tr>\n",
       "      <th>0</th>\n",
       "      <td>Super built-up  Area</td>\n",
       "      <td>19-Dec</td>\n",
       "      <td>Electronic City Phase II</td>\n",
       "      <td>2 BHK</td>\n",
       "      <td>Coomee</td>\n",
       "      <td>1056</td>\n",
       "      <td>2.0</td>\n",
       "      <td>1.0</td>\n",
       "      <td>39.07</td>\n",
       "    </tr>\n",
       "    <tr>\n",
       "      <th>1</th>\n",
       "      <td>Plot  Area</td>\n",
       "      <td>Ready To Move</td>\n",
       "      <td>Chikka Tirupathi</td>\n",
       "      <td>4 Bedroom</td>\n",
       "      <td>Theanmp</td>\n",
       "      <td>2600</td>\n",
       "      <td>5.0</td>\n",
       "      <td>3.0</td>\n",
       "      <td>120.00</td>\n",
       "    </tr>\n",
       "    <tr>\n",
       "      <th>2</th>\n",
       "      <td>Built-up  Area</td>\n",
       "      <td>Ready To Move</td>\n",
       "      <td>Uttarahalli</td>\n",
       "      <td>3 BHK</td>\n",
       "      <td>NaN</td>\n",
       "      <td>1440</td>\n",
       "      <td>2.0</td>\n",
       "      <td>3.0</td>\n",
       "      <td>62.00</td>\n",
       "    </tr>\n",
       "    <tr>\n",
       "      <th>3</th>\n",
       "      <td>Super built-up  Area</td>\n",
       "      <td>Ready To Move</td>\n",
       "      <td>Lingadheeranahalli</td>\n",
       "      <td>3 BHK</td>\n",
       "      <td>Soiewre</td>\n",
       "      <td>1521</td>\n",
       "      <td>3.0</td>\n",
       "      <td>1.0</td>\n",
       "      <td>95.00</td>\n",
       "    </tr>\n",
       "    <tr>\n",
       "      <th>4</th>\n",
       "      <td>Super built-up  Area</td>\n",
       "      <td>Ready To Move</td>\n",
       "      <td>Kothanur</td>\n",
       "      <td>2 BHK</td>\n",
       "      <td>NaN</td>\n",
       "      <td>1200</td>\n",
       "      <td>2.0</td>\n",
       "      <td>1.0</td>\n",
       "      <td>51.00</td>\n",
       "    </tr>\n",
       "    <tr>\n",
       "      <th>...</th>\n",
       "      <td>...</td>\n",
       "      <td>...</td>\n",
       "      <td>...</td>\n",
       "      <td>...</td>\n",
       "      <td>...</td>\n",
       "      <td>...</td>\n",
       "      <td>...</td>\n",
       "      <td>...</td>\n",
       "      <td>...</td>\n",
       "    </tr>\n",
       "    <tr>\n",
       "      <th>13315</th>\n",
       "      <td>Built-up  Area</td>\n",
       "      <td>Ready To Move</td>\n",
       "      <td>Whitefield</td>\n",
       "      <td>5 Bedroom</td>\n",
       "      <td>ArsiaEx</td>\n",
       "      <td>3453</td>\n",
       "      <td>4.0</td>\n",
       "      <td>0.0</td>\n",
       "      <td>231.00</td>\n",
       "    </tr>\n",
       "    <tr>\n",
       "      <th>13316</th>\n",
       "      <td>Super built-up  Area</td>\n",
       "      <td>Ready To Move</td>\n",
       "      <td>Richards Town</td>\n",
       "      <td>4 BHK</td>\n",
       "      <td>NaN</td>\n",
       "      <td>3600</td>\n",
       "      <td>5.0</td>\n",
       "      <td>NaN</td>\n",
       "      <td>400.00</td>\n",
       "    </tr>\n",
       "    <tr>\n",
       "      <th>13317</th>\n",
       "      <td>Built-up  Area</td>\n",
       "      <td>Ready To Move</td>\n",
       "      <td>Raja Rajeshwari Nagar</td>\n",
       "      <td>2 BHK</td>\n",
       "      <td>Mahla T</td>\n",
       "      <td>1141</td>\n",
       "      <td>2.0</td>\n",
       "      <td>1.0</td>\n",
       "      <td>60.00</td>\n",
       "    </tr>\n",
       "    <tr>\n",
       "      <th>13318</th>\n",
       "      <td>Super built-up  Area</td>\n",
       "      <td>18-Jun</td>\n",
       "      <td>Padmanabhanagar</td>\n",
       "      <td>4 BHK</td>\n",
       "      <td>SollyCl</td>\n",
       "      <td>4689</td>\n",
       "      <td>4.0</td>\n",
       "      <td>1.0</td>\n",
       "      <td>488.00</td>\n",
       "    </tr>\n",
       "    <tr>\n",
       "      <th>13319</th>\n",
       "      <td>Super built-up  Area</td>\n",
       "      <td>Ready To Move</td>\n",
       "      <td>Doddathoguru</td>\n",
       "      <td>1 BHK</td>\n",
       "      <td>NaN</td>\n",
       "      <td>550</td>\n",
       "      <td>1.0</td>\n",
       "      <td>1.0</td>\n",
       "      <td>17.00</td>\n",
       "    </tr>\n",
       "  </tbody>\n",
       "</table>\n",
       "<p>13079 rows × 9 columns</p>\n",
       "</div>"
      ],
      "text/plain": [
       "                  area_type   availability                  location  \\\n",
       "0      Super built-up  Area         19-Dec  Electronic City Phase II   \n",
       "1                Plot  Area  Ready To Move          Chikka Tirupathi   \n",
       "2            Built-up  Area  Ready To Move               Uttarahalli   \n",
       "3      Super built-up  Area  Ready To Move        Lingadheeranahalli   \n",
       "4      Super built-up  Area  Ready To Move                  Kothanur   \n",
       "...                     ...            ...                       ...   \n",
       "13315        Built-up  Area  Ready To Move                Whitefield   \n",
       "13316  Super built-up  Area  Ready To Move             Richards Town   \n",
       "13317        Built-up  Area  Ready To Move     Raja Rajeshwari Nagar   \n",
       "13318  Super built-up  Area         18-Jun           Padmanabhanagar   \n",
       "13319  Super built-up  Area  Ready To Move              Doddathoguru   \n",
       "\n",
       "            size  society total_sqft  bath  balcony   price  \n",
       "0          2 BHK  Coomee        1056   2.0      1.0   39.07  \n",
       "1      4 Bedroom  Theanmp       2600   5.0      3.0  120.00  \n",
       "2          3 BHK      NaN       1440   2.0      3.0   62.00  \n",
       "3          3 BHK  Soiewre       1521   3.0      1.0   95.00  \n",
       "4          2 BHK      NaN       1200   2.0      1.0   51.00  \n",
       "...          ...      ...        ...   ...      ...     ...  \n",
       "13315  5 Bedroom  ArsiaEx       3453   4.0      0.0  231.00  \n",
       "13316      4 BHK      NaN       3600   5.0      NaN  400.00  \n",
       "13317      2 BHK  Mahla T       1141   2.0      1.0   60.00  \n",
       "13318      4 BHK  SollyCl       4689   4.0      1.0  488.00  \n",
       "13319      1 BHK      NaN        550   1.0      1.0   17.00  \n",
       "\n",
       "[13079 rows x 9 columns]"
      ]
     },
     "execution_count": 55,
     "metadata": {},
     "output_type": "execute_result"
    }
   ],
   "source": [
    "df_house[df_house[\"price\"] <= 500]"
   ]
  },
  {
   "cell_type": "code",
   "execution_count": 57,
   "metadata": {
    "ExecuteTime": {
     "end_time": "2022-10-26T12:00:10.123003Z",
     "start_time": "2022-10-26T12:00:09.865693Z"
    }
   },
   "outputs": [
    {
     "data": {
      "text/plain": [
       "<matplotlib.lines.Line2D at 0x1de1b149c10>"
      ]
     },
     "execution_count": 57,
     "metadata": {},
     "output_type": "execute_result"
    },
    {
     "data": {
      "image/png": "[encoded data removed]",
      "text/plain": [
       "<Figure size 432x432 with 1 Axes>"
      ]
     },
     "metadata": {
      "needs_background": "light"
     },
     "output_type": "display_data"
    }
   ],
   "source": [
    "datos = df_house[df_house[\"price\"] <= 200]\n",
    "\n",
    "plt.figure(figsize = (6, 6))\n",
    "plt.hist(datos[\"price\"], bins = 50, color = \"lightblue\")\n",
    "plt.axvline(D1, color = \"r\")\n",
    "plt.axvline(D2, color = \"g\")\n",
    "plt.axvline(D3, color = \"y\")\n",
    "plt.axvline(D4, color = \"grey\")\n",
    "plt.axvline(D5, color = \"black\")"
   ]
  },
  {
   "cell_type": "markdown",
   "metadata": {},
   "source": [
    "# Medidas de dispersión\n",
    "\n",
    "<br>\n",
    "<img src = \"dispersion.JPG\" height = \"600\" width = \"600\">\n",
    "<br>\n",
    "<br>"
   ]
  },
  {
   "cell_type": "markdown",
   "metadata": {},
   "source": [
    "Las medidas de desviación son medidas que comparan los valores del conjunto de datos con la media de los datos. Las medidas de tendencia central no son suficientes para describir un conjuntos de datos, ya que estos se distribuyen entre los valores máximo y mínimo de distintas formas. Así que se considera vital saber la forma en cómo se concentran los datos alrededor de un valor central o posición, estás medidas se conocen cómo medidas de dispersión.\n",
    "\n",
    "**Las más comunes son:** \n",
    "\n",
    "* Varianza\n",
    "* Desviación estándar\n",
    "* Error estándar"
   ]
  },
  {
   "cell_type": "markdown",
   "metadata": {},
   "source": [
    "## Medidas de Rangos"
   ]
  },
  {
   "cell_type": "markdown",
   "metadata": {},
   "source": [
    "### Rango"
   ]
  },
  {
   "cell_type": "markdown",
   "metadata": {},
   "source": [
    "El Rango es el intervalo entre el valor máximo y el valor mínimo, cuanto mayor es el rango, más dispersos están los datos. \n",
    "\n",
    "$$ Rango = max - min $$"
   ]
  },
  {
   "cell_type": "code",
   "execution_count": 63,
   "metadata": {
    "ExecuteTime": {
     "end_time": "2022-10-26T12:09:24.988648Z",
     "start_time": "2022-10-26T12:09:24.977644Z"
    }
   },
   "outputs": [
    {
     "data": {
      "text/plain": [
       "3592.0"
      ]
     },
     "execution_count": 63,
     "metadata": {},
     "output_type": "execute_result"
    }
   ],
   "source": [
    "rango = df_house[\"price\"].max() - df_house[\"price\"].min()\n",
    "rango"
   ]
  },
  {
   "cell_type": "code",
   "execution_count": 64,
   "metadata": {
    "ExecuteTime": {
     "end_time": "2022-10-26T12:09:46.876473Z",
     "start_time": "2022-10-26T12:09:46.857405Z"
    }
   },
   "outputs": [
    {
     "data": {
      "text/plain": [
       "3592.0"
      ]
     },
     "execution_count": 64,
     "metadata": {},
     "output_type": "execute_result"
    }
   ],
   "source": [
    "rango = max(df_house[\"price\"]) - min(df_house[\"price\"])\n",
    "rango"
   ]
  },
  {
   "cell_type": "markdown",
   "metadata": {},
   "source": [
    "### Rango medio "
   ]
  },
  {
   "cell_type": "markdown",
   "metadata": {},
   "source": [
    "El Rango es la media del menor y mayor valor de un conjunto de datos, o la mitad del camino entre el dato de menor valor y el dato de mayor."
   ]
  },
  {
   "cell_type": "markdown",
   "metadata": {},
   "source": [
    "### Rango intercuantílico"
   ]
  },
  {
   "cell_type": "markdown",
   "metadata": {},
   "source": [
    "Rango intercuantílico o rango intercuantil, es la diferencia entre el tercer y el primer cuartil de una distribución (pos 25%, pos 75%).\n",
    "\n",
    "$$ IQR = Q(3) - Q(1) $$\n",
    "\n",
    "* Primer cuartil (Q1), tambien es el percentil 25 de los datos\n",
    "* Segundo cuartil (Q2), tambien es el percentil 50 de los datos, decil 5, y tambien coincide con la mediana de los datos\n",
    "* Tercer cuartil (Q3), tambien es el percentil 75 de los datos"
   ]
  },
  {
   "cell_type": "code",
   "execution_count": 65,
   "metadata": {
    "ExecuteTime": {
     "end_time": "2022-10-26T12:11:10.257048Z",
     "start_time": "2022-10-26T12:11:10.248024Z"
    }
   },
   "outputs": [
    {
     "data": {
      "text/plain": [
       "70.0"
      ]
     },
     "execution_count": 65,
     "metadata": {},
     "output_type": "execute_result"
    }
   ],
   "source": [
    "Q1 = np.percentile(df_house[\"price\"], 25)\n",
    "Q3 = np.percentile(df_house[\"price\"], 75)\n",
    "IQR = Q3 - Q1\n",
    "IQR"
   ]
  },
  {
   "cell_type": "markdown",
   "metadata": {},
   "source": [
    "## Medidas de desviación"
   ]
  },
  {
   "cell_type": "markdown",
   "metadata": {},
   "source": [
    "Las medidas de desviación son medidas que comparan los valores del conjunto de datos con la media de los datos. "
   ]
  },
  {
   "cell_type": "markdown",
   "metadata": {},
   "source": [
    "### Varianza"
   ]
  },
  {
   "cell_type": "markdown",
   "metadata": {},
   "source": [
    "La varianza es una medida de dispersión, que es la media de los cuadrados de las distancias entre los puntos y el valor medio de todo el conjunto.\n",
    "\n",
    "$$ \\sigma^2 = \\frac{\\sum_{i=1}^n (x_i-\\bar{x})^2}{n} $$"
   ]
  },
  {
   "cell_type": "code",
   "execution_count": 72,
   "metadata": {
    "ExecuteTime": {
     "end_time": "2022-10-26T12:15:43.775191Z",
     "start_time": "2022-10-26T12:15:43.760199Z"
    }
   },
   "outputs": [
    {
     "data": {
      "text/plain": [
       "22192.559585738298"
      ]
     },
     "execution_count": 72,
     "metadata": {},
     "output_type": "execute_result"
    }
   ],
   "source": [
    "var_pandas = df_house[\"price\"].var()\n",
    "var_pandas"
   ]
  },
  {
   "cell_type": "code",
   "execution_count": 73,
   "metadata": {
    "ExecuteTime": {
     "end_time": "2022-10-26T12:15:52.744141Z",
     "start_time": "2022-10-26T12:15:52.727179Z"
    }
   },
   "outputs": [
    {
     "data": {
      "text/plain": [
       "22190.89347766129"
      ]
     },
     "execution_count": 73,
     "metadata": {},
     "output_type": "execute_result"
    }
   ],
   "source": [
    "varianza = sum((df_house[\"price\"] - df_house[\"price\"].mean())**2)/len(df_house[\"price\"])\n",
    "varianza"
   ]
  },
  {
   "cell_type": "markdown",
   "metadata": {},
   "source": [
    "### Desviación estándar"
   ]
  },
  {
   "cell_type": "markdown",
   "metadata": {},
   "source": [
    "Es conocida como la raíz cuadrada de la variancia, es conveniente porque sus unidades están en la misma escala que los valores en la distribución:\n",
    "\n",
    "$$ \\sigma = \\sqrt{\\sigma^2} $$"
   ]
  },
  {
   "cell_type": "code",
   "execution_count": 74,
   "metadata": {
    "ExecuteTime": {
     "end_time": "2022-10-26T12:16:30.902683Z",
     "start_time": "2022-10-26T12:16:30.887225Z"
    }
   },
   "outputs": [
    {
     "data": {
      "text/plain": [
       "148.9716737696744"
      ]
     },
     "execution_count": 74,
     "metadata": {},
     "output_type": "execute_result"
    }
   ],
   "source": [
    "np.sqrt(var_pandas)"
   ]
  },
  {
   "cell_type": "code",
   "execution_count": 75,
   "metadata": {
    "ExecuteTime": {
     "end_time": "2022-10-26T12:16:59.605484Z",
     "start_time": "2022-10-26T12:16:59.584035Z"
    }
   },
   "outputs": [
    {
     "data": {
      "text/plain": [
       "148.9660816349188"
      ]
     },
     "execution_count": 75,
     "metadata": {},
     "output_type": "execute_result"
    }
   ],
   "source": [
    "(varianza)**(1/2)"
   ]
  },
  {
   "cell_type": "code",
   "execution_count": 76,
   "metadata": {
    "ExecuteTime": {
     "end_time": "2022-10-26T12:18:42.021873Z",
     "start_time": "2022-10-26T12:18:42.008909Z"
    }
   },
   "outputs": [
    {
     "data": {
      "text/plain": [
       "148.9716737696744"
      ]
     },
     "execution_count": 76,
     "metadata": {},
     "output_type": "execute_result"
    }
   ],
   "source": [
    "des_standard = df_house[\"price\"].std()\n",
    "des_standard"
   ]
  },
  {
   "cell_type": "markdown",
   "metadata": {},
   "source": [
    "### Coeficiente de variación de pearson"
   ]
  },
  {
   "cell_type": "markdown",
   "metadata": {},
   "source": [
    "Medida de dispersión adimensional, que se expresa tanto de forma decimal como en tanto por ciento, y nos expresaría la desviación típica como porcentaje con respecto a la media.\n",
    "\n",
    " $$ CV = \\dfrac{\\sigma}{| \\bar x|}$$"
   ]
  },
  {
   "cell_type": "code",
   "execution_count": 82,
   "metadata": {
    "ExecuteTime": {
     "end_time": "2022-10-26T12:22:28.975159Z",
     "start_time": "2022-10-26T12:22:28.961500Z"
    }
   },
   "outputs": [
    {
     "data": {
      "text/plain": [
       "132.34206426922648"
      ]
     },
     "execution_count": 82,
     "metadata": {},
     "output_type": "execute_result"
    }
   ],
   "source": [
    "CV = (df_house[\"price\"].std()/abs(df_house[\"price\"].mean()))*100\n",
    "CV"
   ]
  },
  {
   "cell_type": "markdown",
   "metadata": {},
   "source": [
    "# Medidas de relación"
   ]
  },
  {
   "cell_type": "markdown",
   "metadata": {
    "ExecuteTime": {
     "end_time": "2021-08-21T07:48:44.194147Z",
     "start_time": "2021-08-21T07:48:44.188158Z"
    }
   },
   "source": [
    "## Covarianza"
   ]
  },
  {
   "cell_type": "markdown",
   "metadata": {},
   "source": [
    "Proporciona una medida de cuán relacionadas están las variables el uno al otro:\n",
    "\n",
    "$$ \\text{cov}(x, y) = \\frac{\\sum_{i=1}^n (x_i - \\bar{x})(y_i - \\bar{y}) }{n} $$"
   ]
  },
  {
   "cell_type": "code",
   "execution_count": 96,
   "metadata": {
    "ExecuteTime": {
     "end_time": "2022-10-26T12:44:16.243579Z",
     "start_time": "2022-10-26T12:44:16.222664Z"
    }
   },
   "outputs": [
    {
     "data": {
      "text/plain": [
       "22192.55958573819"
      ]
     },
     "execution_count": 96,
     "metadata": {},
     "output_type": "execute_result"
    }
   ],
   "source": [
    "np.cov(df_house[\"price\"], df_house[\"bath\"])[0][0]"
   ]
  },
  {
   "cell_type": "markdown",
   "metadata": {},
   "source": [
    "## Correlación"
   ]
  },
  {
   "cell_type": "markdown",
   "metadata": {},
   "source": [
    "La correlación mide exclusivamente la relación. La correlación es mucho más común debido a esta diferencia. si la correlación es menor a cero la relación entre ambas variables será negativa, si la correlación da cero da a entenderde que no hay ningún tipo de relación entre ambas variables, y si la correlación da mayor a cero, la relación entre ambas variables será positiva\n",
    "\n",
    "$$ \\rho_{x,y} = \\frac{\\text{cov}(x,y)}{\\sigma_x \\sigma_y} $$"
   ]
  },
  {
   "cell_type": "markdown",
   "metadata": {},
   "source": [
    "## Con Scipy"
   ]
  },
  {
   "cell_type": "code",
   "execution_count": null,
   "metadata": {},
   "outputs": [],
   "source": []
  },
  {
   "cell_type": "code",
   "execution_count": null,
   "metadata": {},
   "outputs": [],
   "source": []
  },
  {
   "cell_type": "markdown",
   "metadata": {},
   "source": [
    "## Metodo de Pandas"
   ]
  },
  {
   "cell_type": "code",
   "execution_count": null,
   "metadata": {},
   "outputs": [],
   "source": []
  },
  {
   "cell_type": "code",
   "execution_count": null,
   "metadata": {},
   "outputs": [],
   "source": []
  },
  {
   "cell_type": "code",
   "execution_count": null,
   "metadata": {},
   "outputs": [],
   "source": []
  }
 ],
 "metadata": {
  "kernelspec": {
   "display_name": "Python 3 (ipykernel)",
   "language": "python",
   "name": "python3"
  },
  "language_info": {
   "codemirror_mode": {
    "name": "ipython",
    "version": 3
   },
   "file_extension": ".py",
   "mimetype": "text/x-python",
   "name": "python",
   "nbconvert_exporter": "python",
   "pygments_lexer": "ipython3",
   "version": "3.9.7"
  },
  "toc": {
   "base_numbering": 1,
   "nav_menu": {},
   "number_sections": true,
   "sideBar": true,
   "skip_h1_title": false,
   "title_cell": "Table of Contents",
   "title_sidebar": "Contents",
   "toc_cell": false,
   "toc_position": {
    "height": "calc(100% - 180px)",
    "left": "10px",
    "top": "150px",
    "width": "194.2px"
   },
   "toc_section_display": true,
   "toc_window_display": true
  },
  "varInspector": {
   "cols": {
    "lenName": 16,
    "lenType": 16,
    "lenVar": 40
   },
   "kernels_config": {
    "python": {
     "delete_cmd_postfix": "",
     "delete_cmd_prefix": "del ",
     "library": "var_list.py",
     "varRefreshCmd": "print(var_dic_list())"
    },
    "r": {
     "delete_cmd_postfix": ") ",
     "delete_cmd_prefix": "rm(",
     "library": "var_list.r",
     "varRefreshCmd": "cat(var_dic_list()) "
    }
   },
   "types_to_exclude": [
    "module",
    "function",
    "builtin_function_or_method",
    "instance",
    "_Feature"
   ],
   "window_display": false
  }
 },
 "nbformat": 4,
 "nbformat_minor": 4
}
