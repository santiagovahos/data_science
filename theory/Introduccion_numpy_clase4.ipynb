{
 "cells": [
  {
   "cell_type": "markdown",
   "id": "368414bf",
   "metadata": {},
   "source": [
    "# Introduccion a la programacion para la ciencia de datos\n",
    "\n",
    "La ciencia de datos permite hacer innumerables aplicaciones en su mayoría basadas en estadistica, programacion, visualizaciones y modelos que representan sistemas dinamicos, y para ello tendremos que plasmar dicha realidad en datos, y porteriormente darle un sentido matematico, a continuacion veremos el modulo `Numpy` el cual es una herramienta que nos permite hacer eso"
   ]
  },
  {
   "cell_type": "markdown",
   "id": "95997aab",
   "metadata": {},
   "source": [
    "# Modulo Numpy"
   ]
  },
  {
   "cell_type": "markdown",
   "id": "90521ca6",
   "metadata": {
    "ExecuteTime": {
     "end_time": "2022-02-03T22:24:33.689666Z",
     "start_time": "2022-02-03T22:24:33.676954Z"
    }
   },
   "source": [
    "<img src = \"numpy_logo.png\" height = \"280\" width = \"280\">\n",
    "\n",
    "Numpy es un paquete fundamental para el trabajo científico en python:\n",
    "\n",
    "* Contiene Funciones, módulos, clases y cierto tipo especial de datos. \n",
    "* Permite el manejo de Arrays Multidimensionales. \n",
    "* Contiene Funciones sofisticadas y optimizadas.\n",
    "* Contiene un paquete de álgebra lineal y permite hacer cálculos estadísticos, ajustes, interpolación entre otras.\n",
    "\n",
    "\n",
    "> El tipo de dato mas importante en numpy es el **array**. El array es un tipo de dato, formado a partir de otro tipo de datos mas sencillos y que estan ordenados en una secuencia definida, en ese sentido es muy similar a una lista o tupla, pero a diferencia de estos, un array solo admite un tipo de dato.\n",
    "\n",
    "- Consultar documentación: https://numpy.org/"
   ]
  },
  {
   "cell_type": "markdown",
   "id": "3315196c",
   "metadata": {},
   "source": [
    "## Crear un array\n",
    "\n",
    "Un array puede ser creado mediante el uso de datos nativos de python (listas, tuplas,datos\n",
    "básicos) usando la función **numpy.array()**:\n",
    "\n",
    "```python\n",
    "numpy.array(object, dtype=None)\n",
    "```\n",
    "Donde podemos especificar el tipo de datos con *dtype*, el orden con *order* (esto hace referencia el modo \"C\", por filas, o \"F\", por columnas, para el diseño de memoria del arreglo. Generalmente se deja en \"K\" para que automaticamente escoja la mejor opción), la dimensión miníma puede establecerse con con *ndmin*."
   ]
  },
  {
   "cell_type": "code",
   "execution_count": 1,
   "id": "b2f3eafc",
   "metadata": {
    "ExecuteTime": {
     "end_time": "2022-10-05T11:20:37.485358Z",
     "start_time": "2022-10-05T11:20:37.468407Z"
    }
   },
   "outputs": [],
   "source": [
    "import numpy as np"
   ]
  },
  {
   "cell_type": "code",
   "execution_count": 4,
   "id": "f02697dd",
   "metadata": {
    "ExecuteTime": {
     "end_time": "2022-10-05T11:22:20.166206Z",
     "start_time": "2022-10-05T11:22:20.148325Z"
    }
   },
   "outputs": [
    {
     "data": {
      "text/plain": [
       "array([1, 2, 3, 4, 5])"
      ]
     },
     "execution_count": 4,
     "metadata": {},
     "output_type": "execute_result"
    }
   ],
   "source": [
    "lista = [1, 2, 3, 4, 5]\n",
    "arreglo = np.array(lista)\n",
    "arreglo"
   ]
  },
  {
   "cell_type": "code",
   "execution_count": 5,
   "id": "3afe920a",
   "metadata": {
    "ExecuteTime": {
     "end_time": "2022-10-05T11:24:42.837396Z",
     "start_time": "2022-10-05T11:24:42.821448Z"
    }
   },
   "outputs": [
    {
     "data": {
      "text/plain": [
       "array(['1', '2', '3', '4', '5'], dtype='<U11')"
      ]
     },
     "execution_count": 5,
     "metadata": {},
     "output_type": "execute_result"
    }
   ],
   "source": [
    "lista = [1,\"2\", 3, 4, 5]\n",
    "arreglo = np.array(lista)\n",
    "arreglo"
   ]
  },
  {
   "cell_type": "code",
   "execution_count": 6,
   "id": "4ba4307c",
   "metadata": {
    "ExecuteTime": {
     "end_time": "2022-10-05T11:25:42.892883Z",
     "start_time": "2022-10-05T11:25:42.870712Z"
    }
   },
   "outputs": [
    {
     "data": {
      "text/plain": [
       "array([ True, False])"
      ]
     },
     "execution_count": 6,
     "metadata": {},
     "output_type": "execute_result"
    }
   ],
   "source": [
    "lista = [True, False]\n",
    "arreglo = np.array(lista)\n",
    "arreglo"
   ]
  },
  {
   "cell_type": "markdown",
   "id": "f3dc28af",
   "metadata": {
    "ExecuteTime": {
     "end_time": "2022-02-03T22:33:01.053832Z",
     "start_time": "2022-02-03T22:33:01.042422Z"
    }
   },
   "source": [
    "## Arrays de mas de una dimension\n",
    "\n",
    "Es importante observar que los arrays pueden tener tanto filas como columnas queramos"
   ]
  },
  {
   "cell_type": "code",
   "execution_count": 12,
   "id": "e3eea4f9",
   "metadata": {
    "ExecuteTime": {
     "end_time": "2022-10-05T11:28:48.132226Z",
     "start_time": "2022-10-05T11:28:48.116620Z"
    }
   },
   "outputs": [
    {
     "data": {
      "text/plain": [
       "array([[1, 2, 3, 4, 5]])"
      ]
     },
     "execution_count": 12,
     "metadata": {},
     "output_type": "execute_result"
    }
   ],
   "source": [
    "numeros = [[1, 2, 3, 4, 5.0]]\n",
    "np.array(numeros, dtype = int)"
   ]
  },
  {
   "cell_type": "code",
   "execution_count": 16,
   "id": "899a7b15",
   "metadata": {
    "ExecuteTime": {
     "end_time": "2022-10-05T11:30:36.764625Z",
     "start_time": "2022-10-05T11:30:36.749994Z"
    }
   },
   "outputs": [
    {
     "data": {
      "text/plain": [
       "array([[ 1.,  2.,  3.,  4.,  5.],\n",
       "       [ 6.,  7.,  8.,  9., 10.]])"
      ]
     },
     "execution_count": 16,
     "metadata": {},
     "output_type": "execute_result"
    }
   ],
   "source": [
    "numeros = [[1, 2, 3, 4, 5.0], \n",
    "           [6, 7, 8, 9, 10]]\n",
    "\n",
    "np.array(numeros, dtype = float)"
   ]
  },
  {
   "cell_type": "code",
   "execution_count": 17,
   "id": "8200db5f",
   "metadata": {
    "ExecuteTime": {
     "end_time": "2022-10-05T11:31:01.810683Z",
     "start_time": "2022-10-05T11:31:01.788355Z"
    }
   },
   "outputs": [
    {
     "data": {
      "text/plain": [
       "array([[ 1.,  2.,  3.,  4.,  5.],\n",
       "       [ 6.,  7.,  8.,  9., 10.],\n",
       "       [11., 12., 13., 14., 15.]])"
      ]
     },
     "execution_count": 17,
     "metadata": {},
     "output_type": "execute_result"
    }
   ],
   "source": [
    "numeros = [[1, 2, 3, 4, 5.0], \n",
    "           [6, 7, 8, 9, 10],\n",
    "           [11,12,13,14,15]]\n",
    "\n",
    "np.array(numeros, dtype = float)"
   ]
  },
  {
   "cell_type": "code",
   "execution_count": 18,
   "id": "df443969",
   "metadata": {
    "ExecuteTime": {
     "end_time": "2022-10-05T11:31:19.400365Z",
     "start_time": "2022-10-05T11:31:19.390206Z"
    }
   },
   "outputs": [
    {
     "data": {
      "text/plain": [
       "array([[ 1.,  2.,  3.,  4.,  5.],\n",
       "       [ 6.,  7.,  8.,  9., 10.],\n",
       "       [11., 12., 13., 14., 15.]])"
      ]
     },
     "execution_count": 18,
     "metadata": {},
     "output_type": "execute_result"
    }
   ],
   "source": [
    "np.array([[1, 2, 3, 4, 5.0], \n",
    "           [6, 7, 8, 9, 10],\n",
    "           [11,12,13,14,15]], dtype = float)"
   ]
  },
  {
   "cell_type": "markdown",
   "id": "9518d92c",
   "metadata": {
    "ExecuteTime": {
     "end_time": "2022-02-03T22:37:13.302760Z",
     "start_time": "2022-02-03T22:37:13.289634Z"
    }
   },
   "source": [
    "## Atributos de un array\n",
    "\n",
    "Los arrays pueden tener diferentes atributos, estos son algunos de los mas comunes:\n",
    "\n",
    "- `shape`, `size`, `dtype`, `nbytes`"
   ]
  },
  {
   "cell_type": "code",
   "execution_count": 41,
   "id": "583977c8",
   "metadata": {
    "ExecuteTime": {
     "end_time": "2022-10-05T12:06:54.111374Z",
     "start_time": "2022-10-05T12:06:54.091034Z"
    }
   },
   "outputs": [],
   "source": [
    "matriz = [[1, 2, 3, 4, 5], \n",
    "          [6, 7, 8, 9, 10],\n",
    "          [11,12,13,14,15]]\n",
    "\n",
    "matriz = np.array(matriz, dtype = \"int8\")"
   ]
  },
  {
   "cell_type": "markdown",
   "id": "b024b9cf",
   "metadata": {
    "ExecuteTime": {
     "end_time": "2022-02-03T22:37:42.934739Z",
     "start_time": "2022-02-03T22:37:42.919345Z"
    }
   },
   "source": [
    "### Atributo shape"
   ]
  },
  {
   "cell_type": "code",
   "execution_count": 33,
   "id": "26216533",
   "metadata": {
    "ExecuteTime": {
     "end_time": "2022-10-05T11:48:56.370363Z",
     "start_time": "2022-10-05T11:48:56.363118Z"
    }
   },
   "outputs": [
    {
     "data": {
      "text/plain": [
       "(3, 5)"
      ]
     },
     "execution_count": 33,
     "metadata": {},
     "output_type": "execute_result"
    }
   ],
   "source": [
    "matriz.shape"
   ]
  },
  {
   "cell_type": "markdown",
   "id": "5aa82653",
   "metadata": {},
   "source": [
    "### Atributo size"
   ]
  },
  {
   "cell_type": "code",
   "execution_count": 34,
   "id": "c0f0b930",
   "metadata": {
    "ExecuteTime": {
     "end_time": "2022-10-05T11:48:57.920727Z",
     "start_time": "2022-10-05T11:48:57.898914Z"
    }
   },
   "outputs": [
    {
     "data": {
      "text/plain": [
       "15"
      ]
     },
     "execution_count": 34,
     "metadata": {},
     "output_type": "execute_result"
    }
   ],
   "source": [
    "matriz.size"
   ]
  },
  {
   "cell_type": "markdown",
   "id": "33758d97",
   "metadata": {},
   "source": [
    "### Atributo dtype"
   ]
  },
  {
   "cell_type": "code",
   "execution_count": 35,
   "id": "c348f090",
   "metadata": {
    "ExecuteTime": {
     "end_time": "2022-10-05T11:49:00.245249Z",
     "start_time": "2022-10-05T11:49:00.236288Z"
    }
   },
   "outputs": [
    {
     "data": {
      "text/plain": [
       "dtype('int64')"
      ]
     },
     "execution_count": 35,
     "metadata": {},
     "output_type": "execute_result"
    }
   ],
   "source": [
    "matriz.dtype"
   ]
  },
  {
   "cell_type": "code",
   "execution_count": 36,
   "id": "de87c0de",
   "metadata": {
    "ExecuteTime": {
     "end_time": "2022-10-05T11:49:03.791278Z",
     "start_time": "2022-10-05T11:49:03.770614Z"
    }
   },
   "outputs": [
    {
     "data": {
      "text/plain": [
       "numpy.ndarray"
      ]
     },
     "execution_count": 36,
     "metadata": {},
     "output_type": "execute_result"
    }
   ],
   "source": [
    "type(matriz)"
   ]
  },
  {
   "cell_type": "markdown",
   "id": "ab1cfe8a",
   "metadata": {},
   "source": [
    "### Atributo nbytes"
   ]
  },
  {
   "cell_type": "code",
   "execution_count": 42,
   "id": "c9b2356c",
   "metadata": {
    "ExecuteTime": {
     "end_time": "2022-10-05T12:06:58.988777Z",
     "start_time": "2022-10-05T12:06:58.965227Z"
    }
   },
   "outputs": [
    {
     "data": {
      "text/plain": [
       "15"
      ]
     },
     "execution_count": 42,
     "metadata": {},
     "output_type": "execute_result"
    }
   ],
   "source": [
    "matriz.nbytes"
   ]
  },
  {
   "cell_type": "markdown",
   "id": "a0307241",
   "metadata": {},
   "source": [
    "## Algunos metodos\n",
    "\n",
    "Los métodos de un array nos permiten realizar algunas de sus funcionalidades como veremos acontinuación:"
   ]
  },
  {
   "cell_type": "markdown",
   "id": "de6cfe89",
   "metadata": {},
   "source": [
    "### Metodo transpose()"
   ]
  },
  {
   "cell_type": "code",
   "execution_count": null,
   "id": "b53580e2",
   "metadata": {},
   "outputs": [],
   "source": [
    "matriz = [[1, 2, 3, 4, 5], \n",
    "          [6, 7, 8, 9, 10],\n",
    "          [11,12,13,14,15]]\n",
    "\n",
    "matriz = np.array(matriz, dtype = \"int8\")"
   ]
  },
  {
   "cell_type": "code",
   "execution_count": 43,
   "id": "96162e8a",
   "metadata": {
    "ExecuteTime": {
     "end_time": "2022-10-05T12:09:23.750296Z",
     "start_time": "2022-10-05T12:09:23.732775Z"
    }
   },
   "outputs": [
    {
     "data": {
      "text/plain": [
       "array([[ 1,  6, 11],\n",
       "       [ 2,  7, 12],\n",
       "       [ 3,  8, 13],\n",
       "       [ 4,  9, 14],\n",
       "       [ 5, 10, 15]], dtype=int8)"
      ]
     },
     "execution_count": 43,
     "metadata": {},
     "output_type": "execute_result"
    }
   ],
   "source": [
    "matriz.transpose()"
   ]
  },
  {
   "cell_type": "code",
   "execution_count": 44,
   "id": "182e965c",
   "metadata": {
    "ExecuteTime": {
     "end_time": "2022-10-05T12:09:32.691596Z",
     "start_time": "2022-10-05T12:09:32.678049Z"
    }
   },
   "outputs": [
    {
     "data": {
      "text/plain": [
       "array([[ 1,  6, 11],\n",
       "       [ 2,  7, 12],\n",
       "       [ 3,  8, 13],\n",
       "       [ 4,  9, 14],\n",
       "       [ 5, 10, 15]], dtype=int8)"
      ]
     },
     "execution_count": 44,
     "metadata": {},
     "output_type": "execute_result"
    }
   ],
   "source": [
    "matriz.T"
   ]
  },
  {
   "cell_type": "markdown",
   "id": "2bcc9494",
   "metadata": {},
   "source": [
    "### Metodo arange()"
   ]
  },
  {
   "cell_type": "code",
   "execution_count": 46,
   "id": "e43e162f",
   "metadata": {
    "ExecuteTime": {
     "end_time": "2022-10-05T12:10:58.998025Z",
     "start_time": "2022-10-05T12:10:58.988536Z"
    }
   },
   "outputs": [
    {
     "data": {
      "text/plain": [
       "array([ 1,  2,  3,  4,  5,  6,  7,  8,  9, 10, 11, 12, 13, 14, 15, 16, 17,\n",
       "       18, 19, 20, 21, 22, 23, 24, 25, 26, 27, 28, 29, 30, 31, 32, 33, 34,\n",
       "       35, 36, 37, 38, 39, 40, 41, 42, 43, 44, 45, 46, 47, 48, 49, 50, 51,\n",
       "       52, 53, 54, 55, 56, 57, 58, 59, 60, 61, 62, 63, 64, 65, 66, 67, 68,\n",
       "       69, 70, 71, 72, 73, 74, 75, 76, 77, 78, 79, 80, 81, 82, 83, 84, 85,\n",
       "       86, 87, 88, 89, 90, 91, 92, 93, 94, 95, 96, 97, 98, 99])"
      ]
     },
     "execution_count": 46,
     "metadata": {},
     "output_type": "execute_result"
    }
   ],
   "source": [
    "array_numerico = np.arange(1, 100)\n",
    "array_numerico"
   ]
  },
  {
   "cell_type": "code",
   "execution_count": 55,
   "id": "3f2cc1e5",
   "metadata": {
    "ExecuteTime": {
     "end_time": "2022-10-05T12:14:32.277663Z",
     "start_time": "2022-10-05T12:14:32.257802Z"
    }
   },
   "outputs": [
    {
     "data": {
      "text/plain": [
       "array([ 1,  2,  3,  4,  5,  6,  7,  8,  9, 10, 11, 12, 13, 14, 15, 16, 17,\n",
       "       18, 19, 20, 21, 22, 23, 24, 25, 26, 27, 28, 29, 30, 31, 32, 33, 34,\n",
       "       35, 36, 37, 38, 39, 40, 41, 42, 43, 44, 45, 46, 47, 48, 49, 50, 51,\n",
       "       52, 53, 54, 55, 56, 57, 58, 59, 60, 61, 62, 63, 64, 65, 66, 67, 68,\n",
       "       69, 70, 71, 72, 73, 74, 75, 76, 77, 78, 79, 80, 81, 82, 83, 84, 85,\n",
       "       86, 87, 88, 89, 90, 91, 92, 93, 94, 95, 96, 97, 98, 99])"
      ]
     },
     "execution_count": 55,
     "metadata": {},
     "output_type": "execute_result"
    }
   ],
   "source": [
    "array_numerico = np.arange(start = 1, stop = 100)\n",
    "array_numerico"
   ]
  },
  {
   "cell_type": "code",
   "execution_count": 56,
   "id": "3221f59c",
   "metadata": {
    "ExecuteTime": {
     "end_time": "2022-10-05T12:14:34.141892Z",
     "start_time": "2022-10-05T12:14:34.130953Z"
    }
   },
   "outputs": [
    {
     "data": {
      "text/plain": [
       "99"
      ]
     },
     "execution_count": 56,
     "metadata": {},
     "output_type": "execute_result"
    }
   ],
   "source": [
    "array_numerico.size"
   ]
  },
  {
   "cell_type": "markdown",
   "id": "15aaf7f9",
   "metadata": {},
   "source": [
    "### Metodo linspace"
   ]
  },
  {
   "cell_type": "code",
   "execution_count": 60,
   "id": "ed9d0bd3",
   "metadata": {
    "ExecuteTime": {
     "end_time": "2022-10-05T12:15:23.720715Z",
     "start_time": "2022-10-05T12:15:23.705718Z"
    }
   },
   "outputs": [
    {
     "data": {
      "text/plain": [
       "array([  1.,   2.,   3.,   4.,   5.,   6.,   7.,   8.,   9.,  10.,  11.,\n",
       "        12.,  13.,  14.,  15.,  16.,  17.,  18.,  19.,  20.,  21.,  22.,\n",
       "        23.,  24.,  25.,  26.,  27.,  28.,  29.,  30.,  31.,  32.,  33.,\n",
       "        34.,  35.,  36.,  37.,  38.,  39.,  40.,  41.,  42.,  43.,  44.,\n",
       "        45.,  46.,  47.,  48.,  49.,  50.,  51.,  52.,  53.,  54.,  55.,\n",
       "        56.,  57.,  58.,  59.,  60.,  61.,  62.,  63.,  64.,  65.,  66.,\n",
       "        67.,  68.,  69.,  70.,  71.,  72.,  73.,  74.,  75.,  76.,  77.,\n",
       "        78.,  79.,  80.,  81.,  82.,  83.,  84.,  85.,  86.,  87.,  88.,\n",
       "        89.,  90.,  91.,  92.,  93.,  94.,  95.,  96.,  97.,  98.,  99.,\n",
       "       100.])"
      ]
     },
     "execution_count": 60,
     "metadata": {},
     "output_type": "execute_result"
    }
   ],
   "source": [
    "array_numerico = np.linspace(start = 1, stop = 100, num = 100)\n",
    "array_numerico"
   ]
  },
  {
   "cell_type": "code",
   "execution_count": 58,
   "id": "00506427",
   "metadata": {
    "ExecuteTime": {
     "end_time": "2022-10-05T12:14:45.977945Z",
     "start_time": "2022-10-05T12:14:45.970963Z"
    }
   },
   "outputs": [
    {
     "data": {
      "text/plain": [
       "50"
      ]
     },
     "execution_count": 58,
     "metadata": {},
     "output_type": "execute_result"
    }
   ],
   "source": [
    "array_numerico.size"
   ]
  },
  {
   "cell_type": "markdown",
   "id": "ceafc5c5",
   "metadata": {},
   "source": [
    "### Metodo random.rand()"
   ]
  },
  {
   "cell_type": "code",
   "execution_count": 97,
   "id": "1a5fa28b",
   "metadata": {
    "ExecuteTime": {
     "end_time": "2022-10-05T12:22:14.586047Z",
     "start_time": "2022-10-05T12:22:14.571059Z"
    }
   },
   "outputs": [
    {
     "data": {
      "text/plain": [
       "array([[51.58026893, 70.00640093, 75.5743815 ],\n",
       "       [22.40369425, 57.60387734, 44.86557995],\n",
       "       [31.60982859, 23.64723018, 27.14036401],\n",
       "       [27.87446447, 73.23840218, 85.58925603],\n",
       "       [24.94677268, 75.24007715, 57.36121977]])"
      ]
     },
     "execution_count": 97,
     "metadata": {},
     "output_type": "execute_result"
    }
   ],
   "source": [
    "array_aleatorio = np.random.rand(5, 3)*100\n",
    "array_aleatorio"
   ]
  },
  {
   "cell_type": "markdown",
   "id": "b87ecfc3",
   "metadata": {},
   "source": [
    "### Metodo randint"
   ]
  },
  {
   "cell_type": "code",
   "execution_count": 132,
   "id": "4df42924",
   "metadata": {
    "ExecuteTime": {
     "end_time": "2022-10-05T12:23:43.915413Z",
     "start_time": "2022-10-05T12:23:43.905957Z"
    }
   },
   "outputs": [
    {
     "data": {
      "text/plain": [
       "array([[0, 0, 1],\n",
       "       [1, 0, 0],\n",
       "       [0, 1, 0],\n",
       "       [0, 1, 1],\n",
       "       [0, 0, 1]])"
      ]
     },
     "execution_count": 132,
     "metadata": {},
     "output_type": "execute_result"
    }
   ],
   "source": [
    "array_aleatorio = np.random.randint(2, size = (5, 3))\n",
    "array_aleatorio"
   ]
  },
  {
   "cell_type": "markdown",
   "id": "2bbf2148",
   "metadata": {},
   "source": [
    "### Metodo ones()"
   ]
  },
  {
   "cell_type": "code",
   "execution_count": 135,
   "id": "6a6e873d",
   "metadata": {
    "ExecuteTime": {
     "end_time": "2022-10-05T12:25:25.754389Z",
     "start_time": "2022-10-05T12:25:25.737415Z"
    }
   },
   "outputs": [
    {
     "data": {
      "text/plain": [
       "array([[1., 1., 1., 1., 1., 1., 1., 1., 1., 1.],\n",
       "       [1., 1., 1., 1., 1., 1., 1., 1., 1., 1.],\n",
       "       [1., 1., 1., 1., 1., 1., 1., 1., 1., 1.],\n",
       "       [1., 1., 1., 1., 1., 1., 1., 1., 1., 1.],\n",
       "       [1., 1., 1., 1., 1., 1., 1., 1., 1., 1.],\n",
       "       [1., 1., 1., 1., 1., 1., 1., 1., 1., 1.],\n",
       "       [1., 1., 1., 1., 1., 1., 1., 1., 1., 1.],\n",
       "       [1., 1., 1., 1., 1., 1., 1., 1., 1., 1.],\n",
       "       [1., 1., 1., 1., 1., 1., 1., 1., 1., 1.],\n",
       "       [1., 1., 1., 1., 1., 1., 1., 1., 1., 1.]])"
      ]
     },
     "execution_count": 135,
     "metadata": {},
     "output_type": "execute_result"
    }
   ],
   "source": [
    "array_ones = np.ones(shape = (10, 10))\n",
    "array_ones"
   ]
  },
  {
   "cell_type": "markdown",
   "id": "3598a96b",
   "metadata": {},
   "source": [
    "### Metodo zeros()"
   ]
  },
  {
   "cell_type": "code",
   "execution_count": 136,
   "id": "2a847114",
   "metadata": {
    "ExecuteTime": {
     "end_time": "2022-10-05T12:25:38.984675Z",
     "start_time": "2022-10-05T12:25:38.973676Z"
    }
   },
   "outputs": [
    {
     "data": {
      "text/plain": [
       "array([[0., 0., 0., 0., 0., 0., 0., 0., 0., 0.],\n",
       "       [0., 0., 0., 0., 0., 0., 0., 0., 0., 0.],\n",
       "       [0., 0., 0., 0., 0., 0., 0., 0., 0., 0.],\n",
       "       [0., 0., 0., 0., 0., 0., 0., 0., 0., 0.],\n",
       "       [0., 0., 0., 0., 0., 0., 0., 0., 0., 0.],\n",
       "       [0., 0., 0., 0., 0., 0., 0., 0., 0., 0.],\n",
       "       [0., 0., 0., 0., 0., 0., 0., 0., 0., 0.],\n",
       "       [0., 0., 0., 0., 0., 0., 0., 0., 0., 0.],\n",
       "       [0., 0., 0., 0., 0., 0., 0., 0., 0., 0.],\n",
       "       [0., 0., 0., 0., 0., 0., 0., 0., 0., 0.]])"
      ]
     },
     "execution_count": 136,
     "metadata": {},
     "output_type": "execute_result"
    }
   ],
   "source": [
    "array_ones = np.zeros(shape = (10, 10))\n",
    "array_ones"
   ]
  },
  {
   "cell_type": "markdown",
   "id": "5f981328",
   "metadata": {},
   "source": [
    "### Metodo identity()"
   ]
  },
  {
   "cell_type": "code",
   "execution_count": 139,
   "id": "e91f0e0c",
   "metadata": {
    "ExecuteTime": {
     "end_time": "2022-10-05T12:27:09.026616Z",
     "start_time": "2022-10-05T12:27:09.009660Z"
    }
   },
   "outputs": [
    {
     "data": {
      "text/plain": [
       "array([[1, 0, 0, 0, 0],\n",
       "       [0, 1, 0, 0, 0],\n",
       "       [0, 0, 1, 0, 0],\n",
       "       [0, 0, 0, 1, 0],\n",
       "       [0, 0, 0, 0, 1]])"
      ]
     },
     "execution_count": 139,
     "metadata": {},
     "output_type": "execute_result"
    }
   ],
   "source": [
    "np.identity(5, dtype = int)"
   ]
  },
  {
   "cell_type": "markdown",
   "id": "0b623889",
   "metadata": {},
   "source": [
    "### Metodo random.uniform()"
   ]
  },
  {
   "cell_type": "code",
   "execution_count": 141,
   "id": "6b85c092",
   "metadata": {
    "ExecuteTime": {
     "end_time": "2022-10-05T12:28:00.109702Z",
     "start_time": "2022-10-05T12:28:00.099728Z"
    }
   },
   "outputs": [
    {
     "data": {
      "text/plain": [
       "array([ 1.95681518, 19.88185684,  1.50590124, 44.47044625, 90.42855978,\n",
       "       61.55208793, 76.80026254, 28.32487197, 54.27267234, 58.70187176,\n",
       "       37.27056125, 32.62564175, 82.03032552, 87.80947592, 56.78880997,\n",
       "       74.2364174 , 48.56103781, 71.94877493, 76.09505173, 19.86496649,\n",
       "       30.11696764, 68.41570576, 67.42788003, 13.19087994, 84.9042707 ,\n",
       "       93.52732819, 90.68404746, 77.17419814, 56.43574976, 54.50224477,\n",
       "       45.62247075, 97.67600132, 94.38707535, 35.5576584 , 55.64180562,\n",
       "       62.19619428, 86.3170005 , 20.8967523 ,  1.95029518, 95.94015287,\n",
       "       17.90710695, 17.87101948,  2.66070038,  3.60342726, 45.06359919,\n",
       "       80.44519944, 17.26660113, 30.65376511, 90.4949914 , 36.94568356,\n",
       "       45.07621694,  4.24574099, 64.14775077, 28.04977361, 28.9046859 ,\n",
       "        9.55051526,  3.32335911, 65.03637248, 82.55962775, 21.65403982,\n",
       "       18.40513242, 54.80911792, 13.14434815, 70.34009408, 66.61709739,\n",
       "       30.10662312, 20.13869058, 73.94983535, 39.6551674 , 49.75453209,\n",
       "       74.45147654, 83.49934109, 61.42095527, 21.14109854, 33.352272  ,\n",
       "       81.78092262, 48.55781   , 70.0675803 , 89.78024665, 82.7977682 ,\n",
       "       41.11049885, 88.5009332 ,  5.50614843, 94.44009334, 85.17024196,\n",
       "       23.57370437, 98.79728303, 29.95080563, 43.38300986, 86.41474273,\n",
       "       86.80814219, 27.45666536, 10.50354618, 58.17903503, 57.10227418,\n",
       "       77.80388778, 48.61777025, 28.8533171 , 48.24300058, 29.84553108])"
      ]
     },
     "execution_count": 141,
     "metadata": {},
     "output_type": "execute_result"
    }
   ],
   "source": [
    "np.random.uniform(1, 100, 100)"
   ]
  },
  {
   "cell_type": "markdown",
   "id": "904bf6c5",
   "metadata": {},
   "source": [
    "### Metodo copy()"
   ]
  },
  {
   "cell_type": "code",
   "execution_count": 147,
   "id": "138d3f0e",
   "metadata": {
    "ExecuteTime": {
     "end_time": "2022-10-05T12:33:40.631488Z",
     "start_time": "2022-10-05T12:33:40.620527Z"
    }
   },
   "outputs": [
    {
     "data": {
      "text/plain": [
       "[1, 2, 3, 4]"
      ]
     },
     "execution_count": 147,
     "metadata": {},
     "output_type": "execute_result"
    }
   ],
   "source": [
    "x = [1,2,3,4]\n",
    "x"
   ]
  },
  {
   "cell_type": "code",
   "execution_count": 148,
   "id": "abf2bc03",
   "metadata": {
    "ExecuteTime": {
     "end_time": "2022-10-05T12:33:49.294022Z",
     "start_time": "2022-10-05T12:33:49.276071Z"
    }
   },
   "outputs": [],
   "source": [
    "y = x"
   ]
  },
  {
   "cell_type": "code",
   "execution_count": 149,
   "id": "4286b347",
   "metadata": {
    "ExecuteTime": {
     "end_time": "2022-10-05T12:33:51.146087Z",
     "start_time": "2022-10-05T12:33:51.139104Z"
    }
   },
   "outputs": [
    {
     "data": {
      "text/plain": [
       "[1, 2, 3, 4]"
      ]
     },
     "execution_count": 149,
     "metadata": {},
     "output_type": "execute_result"
    }
   ],
   "source": [
    "y"
   ]
  },
  {
   "cell_type": "code",
   "execution_count": 153,
   "id": "b6946bd7",
   "metadata": {
    "ExecuteTime": {
     "end_time": "2022-10-05T12:34:46.408150Z",
     "start_time": "2022-10-05T12:34:46.404163Z"
    }
   },
   "outputs": [],
   "source": [
    "x.append(10)"
   ]
  },
  {
   "cell_type": "code",
   "execution_count": 151,
   "id": "23402134",
   "metadata": {
    "ExecuteTime": {
     "end_time": "2022-10-05T12:34:02.259328Z",
     "start_time": "2022-10-05T12:34:02.252343Z"
    }
   },
   "outputs": [
    {
     "data": {
      "text/plain": [
       "[1, 2, 3, 4, 10]"
      ]
     },
     "execution_count": 151,
     "metadata": {},
     "output_type": "execute_result"
    }
   ],
   "source": [
    "x"
   ]
  },
  {
   "cell_type": "code",
   "execution_count": 152,
   "id": "e9cc176f",
   "metadata": {
    "ExecuteTime": {
     "end_time": "2022-10-05T12:34:08.459037Z",
     "start_time": "2022-10-05T12:34:08.443050Z"
    }
   },
   "outputs": [
    {
     "data": {
      "text/plain": [
       "[1, 2, 3, 4, 10]"
      ]
     },
     "execution_count": 152,
     "metadata": {},
     "output_type": "execute_result"
    }
   ],
   "source": [
    "y"
   ]
  },
  {
   "cell_type": "code",
   "execution_count": 161,
   "id": "2278fb31",
   "metadata": {
    "ExecuteTime": {
     "end_time": "2022-10-05T12:35:41.169316Z",
     "start_time": "2022-10-05T12:35:41.155276Z"
    }
   },
   "outputs": [
    {
     "data": {
      "text/plain": [
       "[1, 2, 3, 34, 4, 3454556]"
      ]
     },
     "execution_count": 161,
     "metadata": {},
     "output_type": "execute_result"
    }
   ],
   "source": [
    "z = [1,2,3,34,4,3454556]\n",
    "z"
   ]
  },
  {
   "cell_type": "code",
   "execution_count": 162,
   "id": "24dd4b15",
   "metadata": {
    "ExecuteTime": {
     "end_time": "2022-10-05T12:35:48.353515Z",
     "start_time": "2022-10-05T12:35:48.340460Z"
    }
   },
   "outputs": [],
   "source": [
    "w = z.copy()"
   ]
  },
  {
   "cell_type": "code",
   "execution_count": 163,
   "id": "c5586a99",
   "metadata": {
    "ExecuteTime": {
     "end_time": "2022-10-05T12:35:51.815024Z",
     "start_time": "2022-10-05T12:35:51.805051Z"
    }
   },
   "outputs": [
    {
     "data": {
      "text/plain": [
       "[1, 2, 3, 34, 4, 3454556]"
      ]
     },
     "execution_count": 163,
     "metadata": {},
     "output_type": "execute_result"
    }
   ],
   "source": [
    "w"
   ]
  },
  {
   "cell_type": "code",
   "execution_count": 164,
   "id": "1cdeaf94",
   "metadata": {
    "ExecuteTime": {
     "end_time": "2022-10-05T12:35:59.621884Z",
     "start_time": "2022-10-05T12:35:59.611372Z"
    }
   },
   "outputs": [],
   "source": [
    "z.remove(1)"
   ]
  },
  {
   "cell_type": "code",
   "execution_count": 165,
   "id": "194fba21",
   "metadata": {
    "ExecuteTime": {
     "end_time": "2022-10-05T12:36:02.134609Z",
     "start_time": "2022-10-05T12:36:02.115562Z"
    }
   },
   "outputs": [
    {
     "data": {
      "text/plain": [
       "[2, 3, 34, 4, 3454556]"
      ]
     },
     "execution_count": 165,
     "metadata": {},
     "output_type": "execute_result"
    }
   ],
   "source": [
    "z"
   ]
  },
  {
   "cell_type": "code",
   "execution_count": 166,
   "id": "57f60d5d",
   "metadata": {
    "ExecuteTime": {
     "end_time": "2022-10-05T12:36:05.605411Z",
     "start_time": "2022-10-05T12:36:05.595605Z"
    }
   },
   "outputs": [
    {
     "data": {
      "text/plain": [
       "[1, 2, 3, 34, 4, 3454556]"
      ]
     },
     "execution_count": 166,
     "metadata": {},
     "output_type": "execute_result"
    }
   ],
   "source": [
    "w"
   ]
  },
  {
   "cell_type": "code",
   "execution_count": 167,
   "id": "27ee02a2",
   "metadata": {
    "ExecuteTime": {
     "end_time": "2022-10-05T12:37:45.442976Z",
     "start_time": "2022-10-05T12:37:45.420920Z"
    }
   },
   "outputs": [
    {
     "data": {
      "text/plain": [
       "array([[1., 1., 1., 1., 1., 1., 1., 1., 1., 1.],\n",
       "       [1., 1., 1., 1., 1., 1., 1., 1., 1., 1.],\n",
       "       [1., 1., 1., 1., 1., 1., 1., 1., 1., 1.],\n",
       "       [1., 1., 1., 1., 1., 1., 1., 1., 1., 1.],\n",
       "       [1., 1., 1., 1., 1., 1., 1., 1., 1., 1.],\n",
       "       [1., 1., 1., 1., 1., 1., 1., 1., 1., 1.],\n",
       "       [1., 1., 1., 1., 1., 1., 1., 1., 1., 1.],\n",
       "       [1., 1., 1., 1., 1., 1., 1., 1., 1., 1.],\n",
       "       [1., 1., 1., 1., 1., 1., 1., 1., 1., 1.],\n",
       "       [1., 1., 1., 1., 1., 1., 1., 1., 1., 1.]])"
      ]
     },
     "execution_count": 167,
     "metadata": {},
     "output_type": "execute_result"
    }
   ],
   "source": [
    "array_ones = np.ones(shape = (10, 10))\n",
    "array_ones_new = array_ones.copy()\n",
    "array_ones_new"
   ]
  },
  {
   "cell_type": "code",
   "execution_count": null,
   "id": "a1a989cc",
   "metadata": {},
   "outputs": [],
   "source": []
  }
 ],
 "metadata": {
  "kernelspec": {
   "display_name": "myenv",
   "language": "python",
   "name": "myenv"
  },
  "language_info": {
   "codemirror_mode": {
    "name": "ipython",
    "version": 3
   },
   "file_extension": ".py",
   "mimetype": "text/x-python",
   "name": "python",
   "nbconvert_exporter": "python",
   "pygments_lexer": "ipython3",
   "version": "3.8.12"
  },
  "toc": {
   "base_numbering": 1,
   "nav_menu": {},
   "number_sections": true,
   "sideBar": true,
   "skip_h1_title": false,
   "title_cell": "Table of Contents",
   "title_sidebar": "Contents",
   "toc_cell": false,
   "toc_position": {
    "height": "calc(100% - 180px)",
    "left": "10px",
    "top": "150px",
    "width": "165px"
   },
   "toc_section_display": true,
   "toc_window_display": true
  },
  "varInspector": {
   "cols": {
    "lenName": 16,
    "lenType": 16,
    "lenVar": 40
   },
   "kernels_config": {
    "python": {
     "delete_cmd_postfix": "",
     "delete_cmd_prefix": "del ",
     "library": "var_list.py",
     "varRefreshCmd": "print(var_dic_list())"
    },
    "r": {
     "delete_cmd_postfix": ") ",
     "delete_cmd_prefix": "rm(",
     "library": "var_list.r",
     "varRefreshCmd": "cat(var_dic_list()) "
    }
   },
   "types_to_exclude": [
    "module",
    "function",
    "builtin_function_or_method",
    "instance",
    "_Feature"
   ],
   "window_display": false
  }
 },
 "nbformat": 4,
 "nbformat_minor": 5
}
